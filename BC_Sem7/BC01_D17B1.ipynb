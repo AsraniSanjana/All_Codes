{
  "nbformat": 4,
  "nbformat_minor": 0,
  "metadata": {
    "colab": {
      "provenance": [],
      "include_colab_link": true
    },
    "kernelspec": {
      "name": "python3",
      "display_name": "Python 3"
    },
    "language_info": {
      "name": "python"
    }
  },
  "cells": [
    {
      "cell_type": "markdown",
      "metadata": {
        "id": "view-in-github",
        "colab_type": "text"
      },
      "source": [
        "<a href=\"https://colab.research.google.com/github/AsraniSanjana/All_Codes/blob/main/BC_Sem7/BC01_D17B1.ipynb\" target=\"_parent\"><img src=\"https://colab.research.google.com/assets/colab-badge.svg\" alt=\"Open In Colab\"/></a>"
      ]
    },
    {
      "cell_type": "markdown",
      "source": [
        "# BC LAB 01\n",
        "\n",
        "\n",
        "---\n",
        "\n",
        "\n",
        "DIV: D17B\n",
        "\n",
        "ROLL NO.: 01\n",
        "\n",
        "NAME: SANJANA ASRANI\n",
        "\n",
        "\n",
        "---\n",
        "\n",
        "\n",
        "AIM: Cryptography in Blockchain, Merkle root Tree Hash"
      ],
      "metadata": {
        "id": "8qLvRY0dwQGK"
      }
    },
    {
      "cell_type": "markdown",
      "source": [
        "**Program #1: Python program that uses the hashlib library to create the hash of a given string:**"
      ],
      "metadata": {
        "id": "xt23FKbj5PGM"
      }
    },
    {
      "cell_type": "markdown",
      "source": [
        "XXXXXXX #error statement; 3 Error"
      ],
      "metadata": {
        "id": "_FcwY9gi5XUi"
      }
    },
    {
      "cell_type": "code",
      "source": [
        "import hashlib                                                  #error statement\n",
        "\n",
        "def create_hash(string):\n",
        "    # Create a hash object using SHA-256 algorithm\n",
        "    hash_object = hashlib.sha256()\n",
        "    # Convert the string to bytes and update the hash object\n",
        "    hash_object.update(string.encode('utf-8'))\n",
        "    # Get the hexadecimal representation of the hash\n",
        "    hash_string = hash_object.hexdigest()                          #error statement\n",
        "    # Return the hash string\n",
        "    return hash_string\n",
        "\n",
        "# Example usage\n",
        "input_string = input(\"Enter a string: \")\n",
        "hash_result = create_hash(input_string)\n",
        "print(\"Hash:\", hash_result)                                         #error statement"
      ],
      "metadata": {
        "colab": {
          "base_uri": "https://localhost:8080/"
        },
        "id": "FTBOrZV--BNa",
        "outputId": "a124b678-339a-4091-8b50-aa93a21487f2"
      },
      "execution_count": null,
      "outputs": [
        {
          "output_type": "stream",
          "name": "stdout",
          "text": [
            "Enter a string: sanjana\n",
            "Hash: ace9a117ce2e73ce53adc6123e52533a3f0dbcb0054f342b5ade73f2e8cd6c63\n"
          ]
        }
      ]
    },
    {
      "cell_type": "markdown",
      "source": [
        "**Program #2**: Program to generate required target hash with input\n",
        "\n",
        "---\n",
        "\n",
        "string and nonce**"
      ],
      "metadata": {
        "id": "XvkglGqRGkAy"
      }
    },
    {
      "cell_type": "code",
      "source": [
        "import hashlib\n",
        "\n",
        "# Get user input\n",
        "input_string = input(\"Enter a string: \")\n",
        "nonce = input(\"Enter the nonce: \")\n",
        "\n",
        "# Concatenate the string and nonce\n",
        "hash_string = input_string + nonce                                   # Error\n",
        "\n",
        "# Calculate the hash using SHA-256\n",
        "hash_object = hashlib.sha256(hash_string.encode('utf-8'))\n",
        "hash_code = hash_object.hexdigest()\n",
        "\n",
        "# Print the hash code\n",
        "print(\"Hash Code:\", hash_code)                                          # Error"
      ],
      "metadata": {
        "colab": {
          "base_uri": "https://localhost:8080/"
        },
        "id": "v9lnoo1MGwfx",
        "outputId": "db4c8ef6-3e02-419b-b473-49f8df6bccbd"
      },
      "execution_count": null,
      "outputs": [
        {
          "output_type": "stream",
          "name": "stdout",
          "text": [
            "Enter a string: asrani\n",
            "Enter the nonce: 16\n",
            "Hash Code: cb1a08904ec66184bbd89d4b123b9aaf9e6c29d6f8e2e3715adadbbc61567182\n"
          ]
        }
      ]
    },
    {
      "cell_type": "markdown",
      "source": [
        "**Program #3: Python code for Solving Puzzle for leading zeros with expected nonce and given string**\n",
        "3 Errors\n",
        "\n",
        "\n",
        "The more the no of leading zeroes, the more the computation time\n",
        "Since the gpu space of google cloud is being used by everyone , to calculate nonce. It takes time"
      ],
      "metadata": {
        "id": "bp9jq6hYHFKq"
      }
    },
    {
      "cell_type": "code",
      "source": [
        "import hashlib\n",
        "\n",
        "def find_nonce(input_string, num_zeros):\n",
        "    nonce = 0\n",
        "    hash_prefix = '0' * num_zeros\n",
        "\n",
        "    while True:\n",
        "        # Concatenate the string and nonce\n",
        "        hash_string = input_string + str(nonce)                       #Error\n",
        "        # Calculate the hash using SHA-256\n",
        "        hash_object = hashlib.sha256(hash_string.encode('utf-8'))\n",
        "        hash_code = hash_object.hexdigest()\n",
        "\n",
        "        # Check if the hash code has the required number of leading zeros\n",
        "        if hash_code.startswith(hash_prefix):                            #Error\n",
        "            print(\"Hash:\",hash_code )\n",
        "            return nonce\n",
        "\n",
        "        nonce += 1\n",
        "\n",
        "# Get user input\n",
        "input_string = \"d17b1\"\n",
        "num_zeros = 1\n",
        "\n",
        "# Find the expected nonce\n",
        "expected_nonce = find_nonce(input_string, num_zeros)\n",
        "\n",
        "# Print the expected nonce\n",
        "print(\"Input String:\", input_string)\n",
        "print(\"Leading Zeros:\", num_zeros)\n",
        "print(\"Expected Nonce:\", expected_nonce)                                   #Error\n",
        "\n"
      ],
      "metadata": {
        "id": "eD_YxpMBIUgx",
        "colab": {
          "base_uri": "https://localhost:8080/"
        },
        "outputId": "4cae0f6f-12f7-444b-ead5-2fd8761e984c"
      },
      "execution_count": null,
      "outputs": [
        {
          "output_type": "stream",
          "name": "stdout",
          "text": [
            "Hash: 048ffd721d411859f1aa386dfedda7bfc6a94a3f68373ecaa7ff02d0b26b3058\n",
            "Input String: d17b1\n",
            "Leading Zeros: 1\n",
            "Expected Nonce: 8\n"
          ]
        }
      ]
    },
    {
      "cell_type": "markdown",
      "source": [
        "**Program 4: Generating Merkle Tree for given set of Transactions**"
      ],
      "metadata": {
        "id": "S47pVcOIOBss"
      }
    },
    {
      "cell_type": "code",
      "source": [
        "import hashlib\n",
        "\n",
        "def build_merkle_tree(transactions):                               # Error\n",
        "    if len(transactions) == 0:\n",
        "        return None\n",
        "\n",
        "    if len(transactions) == 1:\n",
        "        return transactions[0]\n",
        "\n",
        "    # Recursive construction of the Merkle Tree\n",
        "    while len(transactions) > 1:\n",
        "        if len(transactions) % 2 != 0:\n",
        "            transactions.append(transactions[-1])\n",
        "            # duplicate the last node in case of odd no of transactions so that creatuion of binary tree is done properly.\n",
        "\n",
        "        new_transactions = []\n",
        "        for i in range(0, len(transactions), 2):\n",
        "\n",
        "            hashOfTi= hashlib.sha256(transactions[i] .encode('utf-8')).hexdigest()\n",
        "            hashOfTiplus1= hashlib.sha256(transactions[i+1] .encode('utf-8')).hexdigest()\n",
        "            combined = hashOfTi + hashOfTiplus1\n",
        "            hash_combined = hashlib.sha256(combined.encode('utf-8')).hexdigest()\n",
        "            print(\"hash of \"+transactions[i]+\" is \"+hashOfTi)\n",
        "            print(\"hash of \"+transactions[i+1]+\" is \"+hashOfTiplus1)\n",
        "            print(\"appended hash of \"+transactions[i]+\" and \"+ transactions[i+1]+ \" is \" +combined)\n",
        "            print(\"hash of appended hash \"+transactions[i]+\" and \"+transactions[i+1]+\" is \"+ hash_combined)\n",
        "            new_transactions.append(hash_combined)                  # Error\n",
        "            print()\n",
        "\n",
        "        transactions = new_transactions\n",
        "\n",
        "    return transactions[0]\n",
        "\n",
        "# Example usage\n",
        "# transactions = [\"sanjana->ishaa:$16\", \"ishaa->shareen:$07\", \"shareen->jae:$03\", \"jae->tirth:$742\"]\n",
        "transactions = [\"T1\", \"T2\", \"T3\", \"T4\",\"T5\"]\n",
        "\n",
        "merkle_root = build_merkle_tree(transactions)\n",
        "print(\"Merkle Root:\", merkle_root)                                # Error\n"
      ],
      "metadata": {
        "colab": {
          "base_uri": "https://localhost:8080/"
        },
        "id": "uxdoyP1MSqh5",
        "outputId": "99a52416-55e7-4d05-e53f-ba7a8f65786d"
      },
      "execution_count": null,
      "outputs": [
        {
          "output_type": "stream",
          "name": "stdout",
          "text": [
            "hash of T1 is 1f93603db53bfad5c92390f735d0cbb8617b4ab8214ae91c5664a3d1e9b009c8\n",
            "hash of T2 is 0f617ba98e6a0f426517e51aff86858da592399abcde80b1b5995a6d0b71a055\n",
            "appended hash of T1 and T2 is 1f93603db53bfad5c92390f735d0cbb8617b4ab8214ae91c5664a3d1e9b009c80f617ba98e6a0f426517e51aff86858da592399abcde80b1b5995a6d0b71a055\n",
            "hash of appended hash T1 and T2 is 87deb947b95198890b6bc5e01e8cab5c80411d171900ce6e8cdcc6a23b46864d\n",
            "\n",
            "hash of T3 is 5dd67f7fb9c529cb28245800137482c9c2fdff9b7d22f54cd3bfa90c59b78481\n",
            "hash of T4 is 11ee5e9af3eec0dc5afa6d11db4f11e5a7a9ec95a8668da51b20155729a32bbe\n",
            "appended hash of T3 and T4 is 5dd67f7fb9c529cb28245800137482c9c2fdff9b7d22f54cd3bfa90c59b7848111ee5e9af3eec0dc5afa6d11db4f11e5a7a9ec95a8668da51b20155729a32bbe\n",
            "hash of appended hash T3 and T4 is f93397e2d5a43978d88b0e088bbe2e79a6f34526ab5a0415d5a2a694cda5638b\n",
            "\n",
            "hash of T5 is 020d01e5b92677a3996c6d0e9fde6322095a0b486b7fbee5252d5e4915317bf4\n",
            "hash of T5 is 020d01e5b92677a3996c6d0e9fde6322095a0b486b7fbee5252d5e4915317bf4\n",
            "appended hash of T5 and T5 is 020d01e5b92677a3996c6d0e9fde6322095a0b486b7fbee5252d5e4915317bf4020d01e5b92677a3996c6d0e9fde6322095a0b486b7fbee5252d5e4915317bf4\n",
            "hash of appended hash T5 and T5 is cd15518635eefe8e132d73495cdd6d93965283254719257a97068a56cbfe480b\n",
            "\n",
            "hash of 87deb947b95198890b6bc5e01e8cab5c80411d171900ce6e8cdcc6a23b46864d is 94c373860673e74e2a37ccdb4b0cef0a5ad1a537e1ab2516b69b905d0b7d96a4\n",
            "hash of f93397e2d5a43978d88b0e088bbe2e79a6f34526ab5a0415d5a2a694cda5638b is aa32c3850fadba09899ab70eb70a91efed6a9497506e2cc9ae5b4e4729562eaa\n",
            "appended hash of 87deb947b95198890b6bc5e01e8cab5c80411d171900ce6e8cdcc6a23b46864d and f93397e2d5a43978d88b0e088bbe2e79a6f34526ab5a0415d5a2a694cda5638b is 94c373860673e74e2a37ccdb4b0cef0a5ad1a537e1ab2516b69b905d0b7d96a4aa32c3850fadba09899ab70eb70a91efed6a9497506e2cc9ae5b4e4729562eaa\n",
            "hash of appended hash 87deb947b95198890b6bc5e01e8cab5c80411d171900ce6e8cdcc6a23b46864d and f93397e2d5a43978d88b0e088bbe2e79a6f34526ab5a0415d5a2a694cda5638b is d360fc79de249882875819ec198eefc4eaf14d432ac262a2f9c66647ea817b67\n",
            "\n",
            "hash of cd15518635eefe8e132d73495cdd6d93965283254719257a97068a56cbfe480b is 2130842cd019a9e32517cd286b551f351bd2cabe8c5d11fa58025f6b2350dc16\n",
            "hash of cd15518635eefe8e132d73495cdd6d93965283254719257a97068a56cbfe480b is 2130842cd019a9e32517cd286b551f351bd2cabe8c5d11fa58025f6b2350dc16\n",
            "appended hash of cd15518635eefe8e132d73495cdd6d93965283254719257a97068a56cbfe480b and cd15518635eefe8e132d73495cdd6d93965283254719257a97068a56cbfe480b is 2130842cd019a9e32517cd286b551f351bd2cabe8c5d11fa58025f6b2350dc162130842cd019a9e32517cd286b551f351bd2cabe8c5d11fa58025f6b2350dc16\n",
            "hash of appended hash cd15518635eefe8e132d73495cdd6d93965283254719257a97068a56cbfe480b and cd15518635eefe8e132d73495cdd6d93965283254719257a97068a56cbfe480b is b9265ae7068d07c32c2127ba97a8dfd464ae22ffacacdc56c78ff04d43933246\n",
            "\n",
            "hash of d360fc79de249882875819ec198eefc4eaf14d432ac262a2f9c66647ea817b67 is 165fde9ecc828d6ce7f71159aff8aa94e68586f1360c1c4be772e2ccd0dbb320\n",
            "hash of b9265ae7068d07c32c2127ba97a8dfd464ae22ffacacdc56c78ff04d43933246 is 8d7a239016ef82cae55611695e52ff19a1c5c21375bf8fb7f97e7e90c523ea6a\n",
            "appended hash of d360fc79de249882875819ec198eefc4eaf14d432ac262a2f9c66647ea817b67 and b9265ae7068d07c32c2127ba97a8dfd464ae22ffacacdc56c78ff04d43933246 is 165fde9ecc828d6ce7f71159aff8aa94e68586f1360c1c4be772e2ccd0dbb3208d7a239016ef82cae55611695e52ff19a1c5c21375bf8fb7f97e7e90c523ea6a\n",
            "hash of appended hash d360fc79de249882875819ec198eefc4eaf14d432ac262a2f9c66647ea817b67 and b9265ae7068d07c32c2127ba97a8dfd464ae22ffacacdc56c78ff04d43933246 is 5a5a841c0207fc42ef27493a0a78846d2501197b912ae737b9110795fba26e04\n",
            "\n",
            "Merkle Root: 5a5a841c0207fc42ef27493a0a78846d2501197b912ae737b9110795fba26e04\n"
          ]
        }
      ]
    }
  ]
}