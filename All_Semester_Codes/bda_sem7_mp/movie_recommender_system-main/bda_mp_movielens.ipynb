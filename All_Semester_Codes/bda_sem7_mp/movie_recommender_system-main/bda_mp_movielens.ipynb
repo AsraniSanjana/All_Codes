{
  "nbformat": 4,
  "nbformat_minor": 0,
  "metadata": {
    "colab": {
      "provenance": [],
      "include_colab_link": true
    },
    "kernelspec": {
      "name": "python3",
      "display_name": "Python 3"
    },
    "language_info": {
      "name": "python"
    }
  },
  "cells": [
    {
      "cell_type": "markdown",
      "metadata": {
        "id": "view-in-github",
        "colab_type": "text"
      },
      "source": [
        "<a href=\"https://colab.research.google.com/github/AsraniSanjana/All_Codes/blob/main/All_Semester_Codes/bda_sem7_mp/movie_recommender_system-main/bda_mp_movielens.ipynb\" target=\"_parent\"><img src=\"https://colab.research.google.com/assets/colab-badge.svg\" alt=\"Open In Colab\"/></a>"
      ]
    },
    {
      "cell_type": "markdown",
      "source": [
        "# **BDA MINIPROJECT**\n",
        "\n",
        "**GROUP NO.** : 10\n",
        "\n",
        "**DIV**: D17B\n",
        "\n",
        "**GROUP MEMBERS:**\n",
        "1. SANJANA ASRANI, 01\n",
        "2. NISHTHA BATRA, 07\n",
        "3. VARAD DESHMUKH, 22\n",
        "4. SAMARTH GAWALI, 25\n",
        "\n",
        "#**TOPIC**: Trends in Recommendation & personalization in netflix\n",
        "\n",
        "\n",
        "**dataset**: https://www.kaggle.com/datasets/rounakbanik/the-movies-dataset?select=ratings.csv"
      ],
      "metadata": {
        "id": "uv3naUznTkqp"
      }
    },
    {
      "cell_type": "markdown",
      "source": [
        "#With Collaborative filtering we make predictions (filtering) about the interests of a user by collecting preferences or taste information from many users (collaborating). The underlying assumption is that if a user A has the same opinion as a user B on an issue, A is more likely to have B's opinion on a different issue x than to have the opinion on x of a user chosen randomly.\n"
      ],
      "metadata": {
        "id": "sYa1L6sHv9qv"
      }
    },
    {
      "cell_type": "code",
      "source": [
        "# !pip install pyspark"
      ],
      "metadata": {
        "id": "sbKc9kZtmRd6"
      },
      "execution_count": null,
      "outputs": []
    },
    {
      "cell_type": "markdown",
      "source": [
        "# creating a spark session"
      ],
      "metadata": {
        "id": "j1jWyT1hnGAV"
      }
    },
    {
      "cell_type": "code",
      "execution_count": null,
      "metadata": {
        "id": "Xsx3JfW96AKX"
      },
      "outputs": [],
      "source": [
        "from pyspark.sql import SparkSession"
      ]
    },
    {
      "cell_type": "code",
      "source": [
        "spark = SparkSession.builder.appName('rec').getOrCreate()"
      ],
      "metadata": {
        "id": "sFs5pbSd6UHA"
      },
      "execution_count": null,
      "outputs": []
    },
    {
      "cell_type": "markdown",
      "source": [
        "# **Spark MLlib library for Machine Learning provides a Collaborative Filtering implementation by using Alternating Least Squares.**"
      ],
      "metadata": {
        "id": "E1qsNvoDv5U5"
      }
    },
    {
      "cell_type": "code",
      "source": [
        "from pyspark.ml.evaluation import RegressionEvaluator\n",
        "from pyspark.ml.recommendation import ALS"
      ],
      "metadata": {
        "id": "qGcOTiE26X2P"
      },
      "execution_count": null,
      "outputs": []
    },
    {
      "cell_type": "markdown",
      "source": [
        "# using the movie lens rating dataset but a smaller version"
      ],
      "metadata": {
        "id": "_t_Env9jnBlI"
      }
    },
    {
      "cell_type": "code",
      "source": [
        "data = spark.read.csv('ratings_small.csv',inferSchema=True,header=True)"
      ],
      "metadata": {
        "id": "OCh9iFUC6YYE"
      },
      "execution_count": null,
      "outputs": []
    },
    {
      "cell_type": "code",
      "source": [
        "data.head()"
      ],
      "metadata": {
        "id": "yt2HBpO46aiR",
        "colab": {
          "base_uri": "https://localhost:8080/"
        },
        "outputId": "db14bb99-1e01-4269-c729-0ff8fae679e2"
      },
      "execution_count": null,
      "outputs": [
        {
          "output_type": "execute_result",
          "data": {
            "text/plain": [
              "Row(userId=1, movieId=31, rating=2.5, timestamp=1260759144)"
            ]
          },
          "metadata": {},
          "execution_count": 9
        }
      ]
    },
    {
      "cell_type": "markdown",
      "source": [
        "# describe.show to find min max avg of all cols"
      ],
      "metadata": {
        "id": "uV38pxqEm8ui"
      }
    },
    {
      "cell_type": "code",
      "source": [
        "data.describe().show()"
      ],
      "metadata": {
        "id": "HF8VGuAs6cQB",
        "colab": {
          "base_uri": "https://localhost:8080/"
        },
        "outputId": "6dc6201d-99cb-4d59-eb36-3daad74cff7c"
      },
      "execution_count": null,
      "outputs": [
        {
          "output_type": "stream",
          "name": "stdout",
          "text": [
            "+-------+------------------+------------------+------------------+--------------------+\n",
            "|summary|            userId|           movieId|            rating|           timestamp|\n",
            "+-------+------------------+------------------+------------------+--------------------+\n",
            "|  count|            100004|            100004|            100004|              100004|\n",
            "|   mean| 347.0113095476181|12548.664363425463| 3.543608255669773|1.1296390869392424E9|\n",
            "| stddev|195.16383797819535|26369.198968815268|1.0580641091070326|1.9168582602710962E8|\n",
            "|    min|                 1|                 1|               0.5|           789652009|\n",
            "|    max|               671|            163949|               5.0|          1476640644|\n",
            "+-------+------------------+------------------+------------------+--------------------+\n",
            "\n"
          ]
        }
      ]
    },
    {
      "cell_type": "markdown",
      "source": [
        "# splitting the dataset"
      ],
      "metadata": {
        "id": "QxwNECENniRH"
      }
    },
    {
      "cell_type": "code",
      "source": [
        "# Smaller dataset so we will use 0.8 / 0.2\n",
        "(training, test) = data.randomSplit([0.8, 0.2])"
      ],
      "metadata": {
        "id": "Y6KofCjd6f7J"
      },
      "execution_count": null,
      "outputs": []
    },
    {
      "cell_type": "code",
      "source": [
        "# Build the recommendation model using ALS on the training data\n",
        "als = ALS(maxIter=5, regParam=0.01, userCol=\"userId\", itemCol=\"movieId\", ratingCol=\"rating\")\n",
        "model = als.fit(training)"
      ],
      "metadata": {
        "id": "lT4vuX6k6iBE"
      },
      "execution_count": null,
      "outputs": []
    },
    {
      "cell_type": "code",
      "source": [
        "# Evaluate the model by computing the RMSE on the test data\n",
        "predictions = model.transform(test)"
      ],
      "metadata": {
        "id": "BmUzkWuj6kCC"
      },
      "execution_count": null,
      "outputs": []
    },
    {
      "cell_type": "code",
      "source": [
        "predictions.show()"
      ],
      "metadata": {
        "id": "DjICLPRY6mEg",
        "colab": {
          "base_uri": "https://localhost:8080/"
        },
        "outputId": "de59952c-1bce-45a1-8147-5657525e8506"
      },
      "execution_count": null,
      "outputs": [
        {
          "output_type": "stream",
          "name": "stdout",
          "text": [
            "+------+-------+------+----------+----------+\n",
            "|userId|movieId|rating| timestamp|prediction|\n",
            "+------+-------+------+----------+----------+\n",
            "|     1|     31|   2.5|1260759144| 1.8546026|\n",
            "|     2|    296|   4.0| 835355395|  4.463022|\n",
            "|     1|   2294|   2.0|1260759108| 1.5988243|\n",
            "|     2|    253|   4.0| 835355511| 4.6869483|\n",
            "|     2|    350|   4.0| 835355697| 2.5710425|\n",
            "|     1|   1061|   3.0|1260759182| 1.4761487|\n",
            "|     2|     47|   4.0| 835355552| 3.7448597|\n",
            "|     1|   1172|   4.0|1260759205| 1.2133102|\n",
            "|     2|     52|   3.0| 835356031| 3.4974098|\n",
            "|     1|   2455|   2.5|1260759113| 2.0804927|\n",
            "|     2|    168|   3.0| 835355710| 2.2973528|\n",
            "|     2|    235|   3.0| 835355664|  4.640166|\n",
            "|     1|   1029|   3.0|1260759179| 2.4428437|\n",
            "|     2|    165|   3.0| 835355441| 3.4599445|\n",
            "|     2|     10|   4.0| 835355493| 3.6740694|\n",
            "|     2|     50|   4.0| 835355586| 3.8070698|\n",
            "|     2|    480|   4.0| 835355643| 2.9965634|\n",
            "|     2|    371|   3.0| 835355968| 3.0541942|\n",
            "|     1|   1953|   4.0|1260759191|  2.672976|\n",
            "|     2|    357|   3.0| 835355749| 2.9487298|\n",
            "+------+-------+------+----------+----------+\n",
            "only showing top 20 rows\n",
            "\n"
          ]
        }
      ]
    },
    {
      "cell_type": "code",
      "source": [
        "evaluator = RegressionEvaluator(metricName=\"rmse\", labelCol=\"rating\",predictionCol=\"prediction\")\n",
        "rmse = evaluator.evaluate(predictions)\n",
        "print(\"Root-mean-square error = \" + str(rmse))"
      ],
      "metadata": {
        "id": "SveefL7D6oR2",
        "colab": {
          "base_uri": "https://localhost:8080/"
        },
        "outputId": "86212a77-8baf-4883-eb7e-22e632c08f9d"
      },
      "execution_count": null,
      "outputs": [
        {
          "output_type": "stream",
          "name": "stdout",
          "text": [
            "Root-mean-square error = nan\n"
          ]
        }
      ]
    },
    {
      "cell_type": "markdown",
      "source": [
        "# For a user with user-id 11, what will be the movie recommended?"
      ],
      "metadata": {
        "id": "rzX35s5hmzA_"
      }
    },
    {
      "cell_type": "code",
      "source": [
        "single_user = test.filter(test['userId']==11).select(['movieId','userId'])"
      ],
      "metadata": {
        "id": "-SGcuicr6otg"
      },
      "execution_count": null,
      "outputs": []
    },
    {
      "cell_type": "code",
      "source": [
        "# User had 10 ratings in the test data set\n",
        "# Realistically this should be some sort of hold out set!\n",
        "single_user.show()"
      ],
      "metadata": {
        "id": "x-4BSplK6q9_",
        "colab": {
          "base_uri": "https://localhost:8080/"
        },
        "outputId": "1598ea11-02f4-4dcf-bb92-9fb715949c46"
      },
      "execution_count": null,
      "outputs": [
        {
          "output_type": "stream",
          "name": "stdout",
          "text": [
            "+-------+------+\n",
            "|movieId|userId|\n",
            "+-------+------+\n",
            "|     50|    11|\n",
            "|   1027|    11|\n",
            "|   1201|    11|\n",
            "|  77455|    11|\n",
            "|  91500|    11|\n",
            "|  91548|    11|\n",
            "+-------+------+\n",
            "\n"
          ]
        }
      ]
    },
    {
      "cell_type": "code",
      "source": [
        "reccomendations = model.transform(single_user)"
      ],
      "metadata": {
        "id": "bWuJg5WL6s5J"
      },
      "execution_count": null,
      "outputs": []
    },
    {
      "cell_type": "code",
      "source": [
        "reccomendations.orderBy('prediction',ascending=False).show()"
      ],
      "metadata": {
        "id": "lNxjasLD6vCU",
        "colab": {
          "base_uri": "https://localhost:8080/"
        },
        "outputId": "209496c1-f2d6-46bb-bd0b-1a8d165f4200"
      },
      "execution_count": null,
      "outputs": [
        {
          "output_type": "stream",
          "name": "stdout",
          "text": [
            "+-------+------+----------+\n",
            "|movieId|userId|prediction|\n",
            "+-------+------+----------+\n",
            "|  91548|    11|       NaN|\n",
            "|     50|    11|  3.970508|\n",
            "|  77455|    11|  3.456606|\n",
            "|   1201|    11| 2.9783525|\n",
            "|  91500|    11| 2.5569963|\n",
            "|   1027|    11| 1.8891362|\n",
            "+-------+------+----------+\n",
            "\n"
          ]
        }
      ]
    }
  ]
}