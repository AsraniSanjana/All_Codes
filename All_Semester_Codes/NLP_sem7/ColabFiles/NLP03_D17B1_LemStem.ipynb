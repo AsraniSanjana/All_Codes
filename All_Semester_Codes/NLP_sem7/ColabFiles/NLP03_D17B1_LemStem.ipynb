{
  "nbformat": 4,
  "nbformat_minor": 0,
  "metadata": {
    "colab": {
      "provenance": [],
      "authorship_tag": "ABX9TyPUoolczuLFZqNAQL3nLrbD",
      "include_colab_link": true
    },
    "kernelspec": {
      "name": "python3",
      "display_name": "Python 3"
    },
    "language_info": {
      "name": "python"
    }
  },
  "cells": [
    {
      "cell_type": "markdown",
      "metadata": {
        "id": "view-in-github",
        "colab_type": "text"
      },
      "source": [
        "<a href=\"https://colab.research.google.com/github/AsraniSanjana/All_Codes/blob/main/All_Semester_Codes/NLP_sem7/ColabFiles/NLP03_D17B1_LemStem.ipynb\" target=\"_parent\"><img src=\"https://colab.research.google.com/assets/colab-badge.svg\" alt=\"Open In Colab\"/></a>"
      ]
    },
    {
      "cell_type": "markdown",
      "source": [
        "# D17B_01_Sanjana Asrani\n",
        "NLP\n",
        "Lab 03 : Stemming and Lemmatization"
      ],
      "metadata": {
        "id": "WBNkmp7zC8KM"
      }
    },
    {
      "cell_type": "markdown",
      "source": [
        "# Stemming\n",
        "Stemming is the process of reducing a word to its word stem that affixes to suffixes and prefixes or to the roots of words known as a lemma. Stemming is important in natural language understanding (NLU) and natural language processing (NLP).\n",
        "\n",
        "# Lemmatization\n",
        " involves reducing words to their base or dictionary form, known as the \"lemma"
      ],
      "metadata": {
        "id": "B9-tinceDLaO"
      }
    },
    {
      "cell_type": "markdown",
      "source": [
        "# PorterStemmer"
      ],
      "metadata": {
        "id": "xJGPICCnD9p9"
      }
    },
    {
      "cell_type": "code",
      "execution_count": null,
      "metadata": {
        "colab": {
          "base_uri": "https://localhost:8080/"
        },
        "id": "Ma9uALaWC64K",
        "outputId": "6ae54f14-5178-4aec-e53f-40ab973bc3fc"
      },
      "outputs": [
        {
          "output_type": "stream",
          "name": "stdout",
          "text": [
            "+-----------------+----------------+\n",
            "| Original Word   | Stemmed Word   |\n",
            "+=================+================+\n",
            "| eating          | eat            |\n",
            "+-----------------+----------------+\n",
            "| eats            | eat            |\n",
            "+-----------------+----------------+\n",
            "| eaten           | eaten          |\n",
            "+-----------------+----------------+\n",
            "| writing         | write          |\n",
            "+-----------------+----------------+\n",
            "| writes          | write          |\n",
            "+-----------------+----------------+\n",
            "| programming     | program        |\n",
            "+-----------------+----------------+\n",
            "| programs        | program        |\n",
            "+-----------------+----------------+\n",
            "| history         | histori        |\n",
            "+-----------------+----------------+\n",
            "| finally         | final          |\n",
            "+-----------------+----------------+\n",
            "| finalized       | final          |\n",
            "+-----------------+----------------+\n"
          ]
        }
      ],
      "source": [
        "from nltk.stem import PorterStemmer\n",
        "from tabulate import tabulate\n",
        "\n",
        "stemming = PorterStemmer()\n",
        "words = [\"eating\", \"eats\", \"eaten\", \"writing\", \"writes\", \"programming\", \"programs\", \"history\", \"finally\", \"finalized\"]\n",
        "\n",
        "# Create a list to store the table data\n",
        "table_data = []\n",
        "\n",
        "# Populate the table_data list with original words and their stemmed versions\n",
        "for word in words:\n",
        "    table_data.append([word, stemming.stem(word)])\n",
        "\n",
        "# Add table headers\n",
        "table_headers = [\"Original Word\", \"Stemmed Word\"]\n",
        "\n",
        "# Print the table using tabulate\n",
        "print(tabulate(table_data, headers=table_headers, tablefmt=\"grid\"))\n"
      ]
    },
    {
      "cell_type": "markdown",
      "source": [
        "# Lancaster  Stemming algorithm"
      ],
      "metadata": {
        "id": "qNoCieQCD4hE"
      }
    },
    {
      "cell_type": "code",
      "source": [
        "from nltk.stem import LancasterStemmer\n",
        "lancaster=LancasterStemmer()\n",
        "table_data = []\n",
        "\n",
        "for word in words:\n",
        "    table_data.append([word, lancaster.stem(word)])\n",
        "\n",
        "table_headers = [\"Original Word\", \"Stemmed Word\"]\n",
        "\n",
        "print(tabulate(table_data, headers=table_headers, tablefmt=\"grid\"))"
      ],
      "metadata": {
        "colab": {
          "base_uri": "https://localhost:8080/"
        },
        "id": "BunhzRg6D0bC",
        "outputId": "e65240ec-8731-4d36-d1ad-678f421d8777"
      },
      "execution_count": null,
      "outputs": [
        {
          "output_type": "stream",
          "name": "stdout",
          "text": [
            "+-----------------+----------------+\n",
            "| Original Word   | Stemmed Word   |\n",
            "+=================+================+\n",
            "| eating          | eat            |\n",
            "+-----------------+----------------+\n",
            "| eats            | eat            |\n",
            "+-----------------+----------------+\n",
            "| eaten           | eat            |\n",
            "+-----------------+----------------+\n",
            "| writing         | writ           |\n",
            "+-----------------+----------------+\n",
            "| writes          | writ           |\n",
            "+-----------------+----------------+\n",
            "| programming     | program        |\n",
            "+-----------------+----------------+\n",
            "| programs        | program        |\n",
            "+-----------------+----------------+\n",
            "| history         | hist           |\n",
            "+-----------------+----------------+\n",
            "| finally         | fin            |\n",
            "+-----------------+----------------+\n",
            "| finalized       | fin            |\n",
            "+-----------------+----------------+\n"
          ]
        }
      ]
    },
    {
      "cell_type": "markdown",
      "source": [
        "# RegexpStemmer class\n",
        "NLTK has RegexpStemmer class with the help of which we can easily implement Regular Expression Stemmer algorithms. It basically takes a single regular expression and removes any prefix or suffix that matches the expression."
      ],
      "metadata": {
        "id": "HEDLMRdSEamf"
      }
    },
    {
      "cell_type": "code",
      "source": [
        "from nltk.stem import RegexpStemmer\n",
        "reg_stemmer=RegexpStemmer('ing|s$|e$|able$', min=4)\n",
        "reg_stemmer.stem(\"eating\")"
      ],
      "metadata": {
        "colab": {
          "base_uri": "https://localhost:8080/",
          "height": 36
        },
        "id": "vTDJ3LscEg-6",
        "outputId": "e9cdb47e-f213-4a43-80d7-37f3d1c8eb31"
      },
      "execution_count": null,
      "outputs": [
        {
          "output_type": "execute_result",
          "data": {
            "text/plain": [
              "'eat'"
            ],
            "application/vnd.google.colaboratory.intrinsic+json": {
              "type": "string"
            }
          },
          "metadata": {},
          "execution_count": 17
        }
      ]
    },
    {
      "cell_type": "code",
      "source": [
        "reg_stemmer.stem(\"ingplaying\")"
      ],
      "metadata": {
        "colab": {
          "base_uri": "https://localhost:8080/",
          "height": 36
        },
        "id": "kJBjn3fREjDP",
        "outputId": "5c15bbfc-24d1-4321-b4a5-c452abead7bc"
      },
      "execution_count": null,
      "outputs": [
        {
          "output_type": "execute_result",
          "data": {
            "text/plain": [
              "'play'"
            ],
            "application/vnd.google.colaboratory.intrinsic+json": {
              "type": "string"
            }
          },
          "metadata": {},
          "execution_count": 18
        }
      ]
    },
    {
      "cell_type": "markdown",
      "source": [
        "# Snowball Stemmer"
      ],
      "metadata": {
        "id": "CFuFVo4YEo8Z"
      }
    },
    {
      "cell_type": "code",
      "source": [
        "from nltk.stem import SnowballStemmer\n",
        "snowballstemmer=SnowballStemmer('english',ignore_stopwords=False)\n",
        "table_data = []\n",
        "\n",
        "for word in words:\n",
        "    table_data.append([word, snowballstemmer.stem(word)])\n",
        "\n",
        "table_headers = [\"Original Word\", \"Stemmed Word\"]\n",
        "\n",
        "print(tabulate(table_data, headers=table_headers, tablefmt=\"grid\"))"
      ],
      "metadata": {
        "colab": {
          "base_uri": "https://localhost:8080/"
        },
        "id": "afZ4tcLNEqxD",
        "outputId": "409cc2e5-7838-4786-c915-ff39ba7ee147"
      },
      "execution_count": null,
      "outputs": [
        {
          "output_type": "stream",
          "name": "stdout",
          "text": [
            "+-----------------+----------------+\n",
            "| Original Word   | Stemmed Word   |\n",
            "+=================+================+\n",
            "| eating          | eat            |\n",
            "+-----------------+----------------+\n",
            "| eats            | eat            |\n",
            "+-----------------+----------------+\n",
            "| eaten           | eaten          |\n",
            "+-----------------+----------------+\n",
            "| writing         | write          |\n",
            "+-----------------+----------------+\n",
            "| writes          | write          |\n",
            "+-----------------+----------------+\n",
            "| programming     | program        |\n",
            "+-----------------+----------------+\n",
            "| programs        | program        |\n",
            "+-----------------+----------------+\n",
            "| history         | histori        |\n",
            "+-----------------+----------------+\n",
            "| finally         | final          |\n",
            "+-----------------+----------------+\n",
            "| finalized       | final          |\n",
            "+-----------------+----------------+\n"
          ]
        }
      ]
    },
    {
      "cell_type": "markdown",
      "source": [
        "# Wordnet Lemmatizer\n",
        "Lemmatization technique is like stemming. The output we will get after lemmatization is called ‘lemma’, which is a root word rather than root stem, the output of stemming. After lemmatization, we will be getting a valid word that means the same thing.\n",
        "\n",
        "NLTK provides WordNetLemmatizer class which is a thin wrapper around the wordnet corpus. This class uses morphy() function to the WordNet CorpusReader class to find a lemma."
      ],
      "metadata": {
        "id": "xcxuHWmEE4GJ"
      }
    },
    {
      "cell_type": "code",
      "source": [
        "import nltk\n",
        "from nltk.stem import WordNetLemmatizer\n",
        "\n",
        "nltk.download('wordnet')\n",
        "\n",
        "lemmatizer = WordNetLemmatizer()\n",
        "\n",
        "'''\n",
        "POS- Noun-n\n",
        "verb-v\n",
        "adjective-a\n",
        "adverb-r\n",
        "'''\n",
        "\n",
        "words = [\"eating\", \"eats\", \"eaten\", \"writing\", \"writes\", \"programming\", \"programs\", \"history\", \"finally\", \"finalized\"]\n",
        "\n",
        "\n",
        "table_data = []\n",
        "\n",
        "for word in words:\n",
        "    table_data.append([word, lemmatizer.lemmatize(word, pos='v')])\n",
        "\n",
        "table_headers = [\"Original Word\", \"Stemmed Word\"]\n",
        "\n",
        "print(tabulate(table_data, headers=table_headers, tablefmt=\"grid\"))\n",
        "\n"
      ],
      "metadata": {
        "colab": {
          "base_uri": "https://localhost:8080/"
        },
        "id": "SoSw9nB7E5-Z",
        "outputId": "15028513-1b92-4bd4-a460-6472c394fb44"
      },
      "execution_count": null,
      "outputs": [
        {
          "output_type": "stream",
          "name": "stdout",
          "text": [
            "+-----------------+----------------+\n",
            "| Original Word   | Stemmed Word   |\n",
            "+=================+================+\n",
            "| eating          | eat            |\n",
            "+-----------------+----------------+\n",
            "| eats            | eat            |\n",
            "+-----------------+----------------+\n",
            "| eaten           | eat            |\n",
            "+-----------------+----------------+\n",
            "| writing         | write          |\n",
            "+-----------------+----------------+\n",
            "| writes          | write          |\n",
            "+-----------------+----------------+\n",
            "| programming     | program        |\n",
            "+-----------------+----------------+\n",
            "| programs        | program        |\n",
            "+-----------------+----------------+\n",
            "| history         | history        |\n",
            "+-----------------+----------------+\n",
            "| finally         | finally        |\n",
            "+-----------------+----------------+\n",
            "| finalized       | finalize       |\n",
            "+-----------------+----------------+\n"
          ]
        },
        {
          "output_type": "stream",
          "name": "stderr",
          "text": [
            "[nltk_data] Downloading package wordnet to /root/nltk_data...\n",
            "[nltk_data]   Package wordnet is already up-to-date!\n"
          ]
        }
      ]
    }
  ]
}