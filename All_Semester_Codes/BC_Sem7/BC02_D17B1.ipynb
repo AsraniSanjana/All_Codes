{
  "nbformat": 4,
  "nbformat_minor": 0,
  "metadata": {
    "colab": {
      "provenance": [],
      "include_colab_link": true
    },
    "kernelspec": {
      "name": "python3",
      "display_name": "Python 3"
    },
    "language_info": {
      "name": "python"
    }
  },
  "cells": [
    {
      "cell_type": "markdown",
      "metadata": {
        "id": "view-in-github",
        "colab_type": "text"
      },
      "source": [
        "<a href=\"https://colab.research.google.com/github/AsraniSanjana/All_Codes/blob/main/All_Semester_Codes/BC_Sem7/BC02_D17B1.ipynb\" target=\"_parent\"><img src=\"https://colab.research.google.com/assets/colab-badge.svg\" alt=\"Open In Colab\"/></a>"
      ]
    },
    {
      "cell_type": "code",
      "source": [
        "import datetime\n",
        "import hashlib\n",
        "import json"
      ],
      "metadata": {
        "id": "JaDJVtjzzwd8"
      },
      "execution_count": null,
      "outputs": []
    },
    {
      "cell_type": "code",
      "execution_count": null,
      "metadata": {
        "id": "FJ5IqaskzbWT"
      },
      "outputs": [],
      "source": [
        "class Blockchain:\n",
        "    def __init__(self):\n",
        "        self.chain = []\n",
        "        self.create_block(proof = 1, previous_hash = '0')\n",
        "\n",
        "    def create_block(self, proof, previous_hash):\n",
        "        block = {'index': len(self.chain) + 1,\n",
        "                 'timestamp': str(datetime.datetime.now()),\n",
        "                 'proof': proof,\n",
        "                 'previous_hash': previous_hash}\n",
        "        self.chain.append(block)\n",
        "        return block\n",
        "\n",
        "    def get_previous_block(self):\n",
        "        return self.chain[-1]\n",
        "\n",
        "    def proof_of_work(self, previous_proof):\n",
        "        new_proof = 1\n",
        "        check_proof = False\n",
        "        while check_proof is False:\n",
        "            hash_operation = hashlib.sha256(str(new_proof**2 - previous_proof**2).encode()).hexdigest()\n",
        "            if hash_operation[:4] == '0000':\n",
        "                check_proof = True\n",
        "            else:\n",
        "                new_proof += 1\n",
        "        return new_proof\n",
        "\n",
        "    def hash(self, block):\n",
        "        encoded_block = json.dumps(block, sort_keys = True).encode()\n",
        "        return hashlib.sha256(encoded_block).hexdigest()\n",
        "\n",
        "    def is_chain_valid(self, chain):\n",
        "        previous_block = chain[0]\n",
        "        block_index = 1\n",
        "        while block_index < len(chain):\n",
        "            block = chain[block_index]\n",
        "            if block['previous_hash'] != self.hash(previous_block):\n",
        "                return False\n",
        "            previous_proof = previous_block['proof']\n",
        "            proof = block['proof']\n",
        "            hash_operation = hashlib.sha256(str(proof**2 - previous_proof**2).encode()).hexdigest()\n",
        "            if hash_operation[:4] != '0000':\n",
        "                return False\n",
        "            previous_block = block\n",
        "            block_index += 1\n",
        "        return True"
      ]
    },
    {
      "cell_type": "code",
      "source": [
        "# Creating a Blockchain\n",
        "blockchain = Blockchain()"
      ],
      "metadata": {
        "id": "O1vsWi_P0FDQ"
      },
      "execution_count": null,
      "outputs": []
    },
    {
      "cell_type": "code",
      "source": [
        "# Mining a new block\n",
        "def mine_block():\n",
        "    previous_block = blockchain.get_previous_block()\n",
        "    previous_proof = previous_block['proof']\n",
        "    proof = blockchain.proof_of_work(previous_proof)\n",
        "    previous_hash = blockchain.hash(previous_block)\n",
        "    block = blockchain.create_block(proof, previous_hash)\n",
        "    response = {'message': 'Congratulations, you just mined a block!',\n",
        "                'index': block['index'],\n",
        "                'timestamp': block['timestamp'],\n",
        "                'proof': block['proof'],\n",
        "                'previous_hash': block['previous_hash']}\n",
        "    return response"
      ],
      "metadata": {
        "id": "_r79JUgxz8nX"
      },
      "execution_count": null,
      "outputs": []
    },
    {
      "cell_type": "code",
      "source": [
        "# Getting the full Blockchain\n",
        "def get_chain():\n",
        "    response = {'chain': blockchain.chain,\n",
        "                'length': len(blockchain.chain)}\n",
        "    return response"
      ],
      "metadata": {
        "id": "CSI7qd0i0O2h"
      },
      "execution_count": null,
      "outputs": []
    },
    {
      "cell_type": "code",
      "source": [
        "# Checking if the Blockchain is valid\n",
        "def is_valid():\n",
        "    is_valid = blockchain.is_chain_valid(blockchain.chain)\n",
        "    if is_valid:\n",
        "        response = {'message': 'All good. The Blockchain is valid.'}\n",
        "    else:\n",
        "        response = {'message': 'Houston, we have a problem. The Blockchain is not valid.'}\n",
        "    return response"
      ],
      "metadata": {
        "id": "OxSP15sX0MkZ"
      },
      "execution_count": null,
      "outputs": []
    },
    {
      "cell_type": "code",
      "source": [
        "print(\"Functions Menu:\")\n",
        "print(\"===============\")\n",
        "print(\"1. Mine a block\")\n",
        "print(\"2. Display the chain\")\n",
        "print(\"3. Check the validity of the chain\")\n",
        "choice = int(input(\"Enter your choice :\"))\n",
        "if choice == 1:\n",
        "  print(mine_block())\n",
        "elif choice == 2:\n",
        "  print(get_chain())\n",
        "elif choice == 3:\n",
        "  print(is_valid())\n",
        "else :\n",
        "  print(\"Invalid choice\")"
      ],
      "metadata": {
        "id": "mUYjAL2Ot9fG",
        "colab": {
          "base_uri": "https://localhost:8080/"
        },
        "outputId": "a4471de2-ddb4-4695-c9a0-3b3224ad80f8"
      },
      "execution_count": null,
      "outputs": [
        {
          "output_type": "stream",
          "name": "stdout",
          "text": [
            "Functions Menu:\n",
            "===============\n",
            "1. Mine a block\n",
            "2. Display the chain\n",
            "3. Check the validity of the chain\n",
            "Enter your choice :2\n",
            "{'chain': [{'index': 1, 'timestamp': '2023-08-11 11:44:26.420039', 'proof': 1, 'previous_hash': '0'}, {'index': 2, 'timestamp': '2023-08-11 11:44:42.814711', 'proof': 533, 'previous_hash': 'cfc4011fdd67d8982a76cf148107fe4fe5d2fa7d9e3ffc191f40ce86ddfca84f'}, {'index': 3, 'timestamp': '2023-08-11 11:45:15.492586', 'proof': 45293, 'previous_hash': 'a16c136b7cfaec691264329c4cbd2334437e227c0111a9c11c241f663fe704b5'}, {'index': 4, 'timestamp': '2023-08-11 11:45:24.653715', 'proof': 21391, 'previous_hash': '2cdc8d004ff83f9cd2f447efbaa0ab8cc8065891e22d33b42d424c6bae128293'}], 'length': 4}\n"
          ]
        }
      ]
    }
  ]
}