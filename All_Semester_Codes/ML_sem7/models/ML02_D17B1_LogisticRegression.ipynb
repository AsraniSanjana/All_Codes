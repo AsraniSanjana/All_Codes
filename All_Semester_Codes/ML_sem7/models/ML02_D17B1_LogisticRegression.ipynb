{
  "nbformat": 4,
  "nbformat_minor": 0,
  "metadata": {
    "colab": {
      "provenance": [],
      "include_colab_link": true
    },
    "kernelspec": {
      "name": "python3",
      "display_name": "Python 3"
    },
    "language_info": {
      "name": "python"
    }
  },
  "cells": [
    {
      "cell_type": "markdown",
      "metadata": {
        "id": "view-in-github",
        "colab_type": "text"
      },
      "source": [
        "<a href=\"https://colab.research.google.com/github/AsraniSanjana/All_Codes/blob/main/All_Semester_Codes/ML_sem7/models/ML02_D17B1_LogisticRegression.ipynb\" target=\"_parent\"><img src=\"https://colab.research.google.com/assets/colab-badge.svg\" alt=\"Open In Colab\"/></a>"
      ]
    },
    {
      "cell_type": "markdown",
      "source": [
        "# **Logistic Regression**\n",
        "Lab 2\n",
        "\n",
        "Group members:\n",
        "Sanjana Asrani (01) ;\n",
        "Vivek Balani (05) ;\n",
        "Yash Brid (11) ;\n",
        "Neeraj Chawla (12) ;\n",
        "\n",
        "Reference link - https://www.javatpoint.com/logistic-regression-in-machine-learning\n",
        "\n",
        "Dataset: [suv_data.csv](https://drive.google.com/file/d/1ZxO1j6kdp4JfJVKX04gcqA_q9dflltj9/view?usp=sharing)"
      ],
      "metadata": {
        "id": "gov9JDqdSAq3"
      }
    },
    {
      "cell_type": "markdown",
      "source": [
        "# Importing Libraries\n",
        "This cell is used to import the necessary libraries for your logistic regression analysis. It includes imports for numpy, matplotlib.pyplot, pandas, and various modules from sklearn for metrics and data preprocessing."
      ],
      "metadata": {
        "id": "VnRuEDJiLBBM"
      }
    },
    {
      "cell_type": "code",
      "execution_count": null,
      "metadata": {
        "id": "60D0TPcUQmKO"
      },
      "outputs": [],
      "source": [
        "#Data Pre-procesing Step\n",
        "# importing libraries\n",
        "import numpy as nm\n",
        "import matplotlib.pyplot as mtp\n",
        "import pandas as pd\n",
        "from sklearn.utils.multiclass import unique_labels\n",
        "from sklearn.metrics import accuracy_score\n",
        "\n",
        "#importing datasets\n",
        "data_set= pd.read_csv('/content/suv_data.csv')"
      ]
    },
    {
      "cell_type": "markdown",
      "source": [
        "# Loading, Extracting and Displaying Data\n",
        "In this cell, you load a dataset named \"suv_data.csv\". Then, you extract the independent variables (features) into x and the dependent variable (target) into y. The dataset is loaded from a CSV file named \"diabetes.csv\". The column names are defined, and the data is loaded into a Pandas DataFrame. Additionally, the first row is removed to exclude any header row."
      ],
      "metadata": {
        "id": "WwuQBB3ILFJm"
      }
    },
    {
      "cell_type": "code",
      "source": [
        "#Extracting Independent and dependent Variable\n",
        "x= data_set.iloc[:, [2,3]].values\n",
        "y= data_set.iloc[:, 4].values"
      ],
      "metadata": {
        "id": "v4LKYIV9Vh2u"
      },
      "execution_count": null,
      "outputs": []
    },
    {
      "cell_type": "code",
      "source": [
        "col_names = ['User ID', 'Gender', 'Age', 'EstimatedSalary', 'Purchased']\n",
        "pima = pd.read_csv(\"/content/suv_data.csv\", header=None, names=col_names)\n",
        "pima = pima.iloc[1: , :]\n",
        "pima.head()"
      ],
      "metadata": {
        "colab": {
          "base_uri": "https://localhost:8080/"
        },
        "id": "_tq03Ky6dKFo",
        "outputId": "ebd3c131-daf8-47d2-9f2c-0f224c75a9db"
      },
      "execution_count": null,
      "outputs": [
        {
          "output_type": "execute_result",
          "data": {
            "text/plain": [
              "    User ID  Gender Age EstimatedSalary Purchased\n",
              "1  15624510    Male  19           19000         0\n",
              "2  15810944    Male  35           20000         0\n",
              "3  15668575  Female  26           43000         0\n",
              "4  15603246  Female  27           57000         0\n",
              "5  15804002    Male  19           76000         0"
            ],
            "text/html": [
              "\n",
              "\n",
              "  <div id=\"df-c0b2284a-0211-48b0-9747-5c55c86d1a0c\">\n",
              "    <div class=\"colab-df-container\">\n",
              "      <div>\n",
              "<style scoped>\n",
              "    .dataframe tbody tr th:only-of-type {\n",
              "        vertical-align: middle;\n",
              "    }\n",
              "\n",
              "    .dataframe tbody tr th {\n",
              "        vertical-align: top;\n",
              "    }\n",
              "\n",
              "    .dataframe thead th {\n",
              "        text-align: right;\n",
              "    }\n",
              "</style>\n",
              "<table border=\"1\" class=\"dataframe\">\n",
              "  <thead>\n",
              "    <tr style=\"text-align: right;\">\n",
              "      <th></th>\n",
              "      <th>User ID</th>\n",
              "      <th>Gender</th>\n",
              "      <th>Age</th>\n",
              "      <th>EstimatedSalary</th>\n",
              "      <th>Purchased</th>\n",
              "    </tr>\n",
              "  </thead>\n",
              "  <tbody>\n",
              "    <tr>\n",
              "      <th>1</th>\n",
              "      <td>15624510</td>\n",
              "      <td>Male</td>\n",
              "      <td>19</td>\n",
              "      <td>19000</td>\n",
              "      <td>0</td>\n",
              "    </tr>\n",
              "    <tr>\n",
              "      <th>2</th>\n",
              "      <td>15810944</td>\n",
              "      <td>Male</td>\n",
              "      <td>35</td>\n",
              "      <td>20000</td>\n",
              "      <td>0</td>\n",
              "    </tr>\n",
              "    <tr>\n",
              "      <th>3</th>\n",
              "      <td>15668575</td>\n",
              "      <td>Female</td>\n",
              "      <td>26</td>\n",
              "      <td>43000</td>\n",
              "      <td>0</td>\n",
              "    </tr>\n",
              "    <tr>\n",
              "      <th>4</th>\n",
              "      <td>15603246</td>\n",
              "      <td>Female</td>\n",
              "      <td>27</td>\n",
              "      <td>57000</td>\n",
              "      <td>0</td>\n",
              "    </tr>\n",
              "    <tr>\n",
              "      <th>5</th>\n",
              "      <td>15804002</td>\n",
              "      <td>Male</td>\n",
              "      <td>19</td>\n",
              "      <td>76000</td>\n",
              "      <td>0</td>\n",
              "    </tr>\n",
              "  </tbody>\n",
              "</table>\n",
              "</div>\n",
              "      <button class=\"colab-df-convert\" onclick=\"convertToInteractive('df-c0b2284a-0211-48b0-9747-5c55c86d1a0c')\"\n",
              "              title=\"Convert this dataframe to an interactive table.\"\n",
              "              style=\"display:none;\">\n",
              "\n",
              "  <svg xmlns=\"http://www.w3.org/2000/svg\" height=\"24px\"viewBox=\"0 0 24 24\"\n",
              "       width=\"24px\">\n",
              "    <path d=\"M0 0h24v24H0V0z\" fill=\"none\"/>\n",
              "    <path d=\"M18.56 5.44l.94 2.06.94-2.06 2.06-.94-2.06-.94-.94-2.06-.94 2.06-2.06.94zm-11 1L8.5 8.5l.94-2.06 2.06-.94-2.06-.94L8.5 2.5l-.94 2.06-2.06.94zm10 10l.94 2.06.94-2.06 2.06-.94-2.06-.94-.94-2.06-.94 2.06-2.06.94z\"/><path d=\"M17.41 7.96l-1.37-1.37c-.4-.4-.92-.59-1.43-.59-.52 0-1.04.2-1.43.59L10.3 9.45l-7.72 7.72c-.78.78-.78 2.05 0 2.83L4 21.41c.39.39.9.59 1.41.59.51 0 1.02-.2 1.41-.59l7.78-7.78 2.81-2.81c.8-.78.8-2.07 0-2.86zM5.41 20L4 18.59l7.72-7.72 1.47 1.35L5.41 20z\"/>\n",
              "  </svg>\n",
              "      </button>\n",
              "\n",
              "\n",
              "\n",
              "    <div id=\"df-db39b0d5-56d1-4dea-92f2-a9062fbdbf62\">\n",
              "      <button class=\"colab-df-quickchart\" onclick=\"quickchart('df-db39b0d5-56d1-4dea-92f2-a9062fbdbf62')\"\n",
              "              title=\"Suggest charts.\"\n",
              "              style=\"display:none;\">\n",
              "\n",
              "<svg xmlns=\"http://www.w3.org/2000/svg\" height=\"24px\"viewBox=\"0 0 24 24\"\n",
              "     width=\"24px\">\n",
              "    <g>\n",
              "        <path d=\"M19 3H5c-1.1 0-2 .9-2 2v14c0 1.1.9 2 2 2h14c1.1 0 2-.9 2-2V5c0-1.1-.9-2-2-2zM9 17H7v-7h2v7zm4 0h-2V7h2v10zm4 0h-2v-4h2v4z\"/>\n",
              "    </g>\n",
              "</svg>\n",
              "      </button>\n",
              "    </div>\n",
              "\n",
              "<style>\n",
              "  .colab-df-quickchart {\n",
              "    background-color: #E8F0FE;\n",
              "    border: none;\n",
              "    border-radius: 50%;\n",
              "    cursor: pointer;\n",
              "    display: none;\n",
              "    fill: #1967D2;\n",
              "    height: 32px;\n",
              "    padding: 0 0 0 0;\n",
              "    width: 32px;\n",
              "  }\n",
              "\n",
              "  .colab-df-quickchart:hover {\n",
              "    background-color: #E2EBFA;\n",
              "    box-shadow: 0px 1px 2px rgba(60, 64, 67, 0.3), 0px 1px 3px 1px rgba(60, 64, 67, 0.15);\n",
              "    fill: #174EA6;\n",
              "  }\n",
              "\n",
              "  [theme=dark] .colab-df-quickchart {\n",
              "    background-color: #3B4455;\n",
              "    fill: #D2E3FC;\n",
              "  }\n",
              "\n",
              "  [theme=dark] .colab-df-quickchart:hover {\n",
              "    background-color: #434B5C;\n",
              "    box-shadow: 0px 1px 3px 1px rgba(0, 0, 0, 0.15);\n",
              "    filter: drop-shadow(0px 1px 2px rgba(0, 0, 0, 0.3));\n",
              "    fill: #FFFFFF;\n",
              "  }\n",
              "</style>\n",
              "\n",
              "    <script>\n",
              "      async function quickchart(key) {\n",
              "        const containerElement = document.querySelector('#' + key);\n",
              "        const charts = await google.colab.kernel.invokeFunction(\n",
              "            'suggestCharts', [key], {});\n",
              "      }\n",
              "    </script>\n",
              "\n",
              "      <script>\n",
              "\n",
              "function displayQuickchartButton(domScope) {\n",
              "  let quickchartButtonEl =\n",
              "    domScope.querySelector('#df-db39b0d5-56d1-4dea-92f2-a9062fbdbf62 button.colab-df-quickchart');\n",
              "  quickchartButtonEl.style.display =\n",
              "    google.colab.kernel.accessAllowed ? 'block' : 'none';\n",
              "}\n",
              "\n",
              "        displayQuickchartButton(document);\n",
              "      </script>\n",
              "      <style>\n",
              "    .colab-df-container {\n",
              "      display:flex;\n",
              "      flex-wrap:wrap;\n",
              "      gap: 12px;\n",
              "    }\n",
              "\n",
              "    .colab-df-convert {\n",
              "      background-color: #E8F0FE;\n",
              "      border: none;\n",
              "      border-radius: 50%;\n",
              "      cursor: pointer;\n",
              "      display: none;\n",
              "      fill: #1967D2;\n",
              "      height: 32px;\n",
              "      padding: 0 0 0 0;\n",
              "      width: 32px;\n",
              "    }\n",
              "\n",
              "    .colab-df-convert:hover {\n",
              "      background-color: #E2EBFA;\n",
              "      box-shadow: 0px 1px 2px rgba(60, 64, 67, 0.3), 0px 1px 3px 1px rgba(60, 64, 67, 0.15);\n",
              "      fill: #174EA6;\n",
              "    }\n",
              "\n",
              "    [theme=dark] .colab-df-convert {\n",
              "      background-color: #3B4455;\n",
              "      fill: #D2E3FC;\n",
              "    }\n",
              "\n",
              "    [theme=dark] .colab-df-convert:hover {\n",
              "      background-color: #434B5C;\n",
              "      box-shadow: 0px 1px 3px 1px rgba(0, 0, 0, 0.15);\n",
              "      filter: drop-shadow(0px 1px 2px rgba(0, 0, 0, 0.3));\n",
              "      fill: #FFFFFF;\n",
              "    }\n",
              "  </style>\n",
              "\n",
              "      <script>\n",
              "        const buttonEl =\n",
              "          document.querySelector('#df-c0b2284a-0211-48b0-9747-5c55c86d1a0c button.colab-df-convert');\n",
              "        buttonEl.style.display =\n",
              "          google.colab.kernel.accessAllowed ? 'block' : 'none';\n",
              "\n",
              "        async function convertToInteractive(key) {\n",
              "          const element = document.querySelector('#df-c0b2284a-0211-48b0-9747-5c55c86d1a0c');\n",
              "          const dataTable =\n",
              "            await google.colab.kernel.invokeFunction('convertToInteractive',\n",
              "                                                     [key], {});\n",
              "          if (!dataTable) return;\n",
              "\n",
              "          const docLinkHtml = 'Like what you see? Visit the ' +\n",
              "            '<a target=\"_blank\" href=https://colab.research.google.com/notebooks/data_table.ipynb>data table notebook</a>'\n",
              "            + ' to learn more about interactive tables.';\n",
              "          element.innerHTML = '';\n",
              "          dataTable['output_type'] = 'display_data';\n",
              "          await google.colab.output.renderOutput(dataTable, element);\n",
              "          const docLink = document.createElement('div');\n",
              "          docLink.innerHTML = docLinkHtml;\n",
              "          element.appendChild(docLink);\n",
              "        }\n",
              "      </script>\n",
              "    </div>\n",
              "  </div>\n"
            ]
          },
          "metadata": {},
          "execution_count": 51
        }
      ]
    },
    {
      "cell_type": "markdown",
      "source": [
        "# Splitting Data into Train and Test Sets\n",
        "This cell splits the dataset into training and test sets using the train_test_split function from sklearn. It creates x_train, x_test, y_train, and y_test."
      ],
      "metadata": {
        "id": "aupZSGs3LMsL"
      }
    },
    {
      "cell_type": "code",
      "source": [
        "# Splitting the dataset into training and test set.\n",
        "from sklearn.model_selection import train_test_split\n",
        "x_train, x_test, y_train, y_test= train_test_split(x, y, test_size= 0.25, random_state=0)"
      ],
      "metadata": {
        "id": "IKPg0kI1ViiG"
      },
      "execution_count": null,
      "outputs": []
    },
    {
      "cell_type": "markdown",
      "source": [
        "# Feature Scaling\n",
        "This cell performs feature scaling on the training and test sets using StandardScaler from sklearn.preprocessing. It ensures that the features are on the same scale for more effective modeling."
      ],
      "metadata": {
        "id": "HN_zawfRLQXc"
      }
    },
    {
      "cell_type": "code",
      "source": [
        "#feature Scaling\n",
        "from sklearn.preprocessing import StandardScaler\n",
        "st_x= StandardScaler()\n",
        "x_train= st_x.fit_transform(x_train)\n",
        "x_test= st_x.transform(x_test)"
      ],
      "metadata": {
        "id": "qrqOVt-NVqfW"
      },
      "execution_count": null,
      "outputs": []
    },
    {
      "cell_type": "markdown",
      "source": [
        "# Fitting Logistic Regression Model\n",
        "Here, you create a logistic regression classifier (classifier) using LogisticRegression from sklearn.linear_model and fit it to the training data."
      ],
      "metadata": {
        "id": "Jp6KxuUvLU_o"
      }
    },
    {
      "cell_type": "code",
      "source": [
        "#Fitting Logistic Regression to the training set\n",
        "from sklearn.linear_model import LogisticRegression\n",
        "classifier= LogisticRegression(random_state=0)\n",
        "classifier.fit(x_train, y_train)"
      ],
      "metadata": {
        "colab": {
          "base_uri": "https://localhost:8080/"
        },
        "id": "t30ueHB2VuAF",
        "outputId": "a8bcf863-fe6f-42d9-dc9b-dccd86bc928c"
      },
      "execution_count": null,
      "outputs": [
        {
          "output_type": "execute_result",
          "data": {
            "text/plain": [
              "LogisticRegression(random_state=0)"
            ],
            "text/html": [
              "<style>#sk-container-id-9 {color: black;background-color: white;}#sk-container-id-9 pre{padding: 0;}#sk-container-id-9 div.sk-toggleable {background-color: white;}#sk-container-id-9 label.sk-toggleable__label {cursor: pointer;display: block;width: 100%;margin-bottom: 0;padding: 0.3em;box-sizing: border-box;text-align: center;}#sk-container-id-9 label.sk-toggleable__label-arrow:before {content: \"▸\";float: left;margin-right: 0.25em;color: #696969;}#sk-container-id-9 label.sk-toggleable__label-arrow:hover:before {color: black;}#sk-container-id-9 div.sk-estimator:hover label.sk-toggleable__label-arrow:before {color: black;}#sk-container-id-9 div.sk-toggleable__content {max-height: 0;max-width: 0;overflow: hidden;text-align: left;background-color: #f0f8ff;}#sk-container-id-9 div.sk-toggleable__content pre {margin: 0.2em;color: black;border-radius: 0.25em;background-color: #f0f8ff;}#sk-container-id-9 input.sk-toggleable__control:checked~div.sk-toggleable__content {max-height: 200px;max-width: 100%;overflow: auto;}#sk-container-id-9 input.sk-toggleable__control:checked~label.sk-toggleable__label-arrow:before {content: \"▾\";}#sk-container-id-9 div.sk-estimator input.sk-toggleable__control:checked~label.sk-toggleable__label {background-color: #d4ebff;}#sk-container-id-9 div.sk-label input.sk-toggleable__control:checked~label.sk-toggleable__label {background-color: #d4ebff;}#sk-container-id-9 input.sk-hidden--visually {border: 0;clip: rect(1px 1px 1px 1px);clip: rect(1px, 1px, 1px, 1px);height: 1px;margin: -1px;overflow: hidden;padding: 0;position: absolute;width: 1px;}#sk-container-id-9 div.sk-estimator {font-family: monospace;background-color: #f0f8ff;border: 1px dotted black;border-radius: 0.25em;box-sizing: border-box;margin-bottom: 0.5em;}#sk-container-id-9 div.sk-estimator:hover {background-color: #d4ebff;}#sk-container-id-9 div.sk-parallel-item::after {content: \"\";width: 100%;border-bottom: 1px solid gray;flex-grow: 1;}#sk-container-id-9 div.sk-label:hover label.sk-toggleable__label {background-color: #d4ebff;}#sk-container-id-9 div.sk-serial::before {content: \"\";position: absolute;border-left: 1px solid gray;box-sizing: border-box;top: 0;bottom: 0;left: 50%;z-index: 0;}#sk-container-id-9 div.sk-serial {display: flex;flex-direction: column;align-items: center;background-color: white;padding-right: 0.2em;padding-left: 0.2em;position: relative;}#sk-container-id-9 div.sk-item {position: relative;z-index: 1;}#sk-container-id-9 div.sk-parallel {display: flex;align-items: stretch;justify-content: center;background-color: white;position: relative;}#sk-container-id-9 div.sk-item::before, #sk-container-id-9 div.sk-parallel-item::before {content: \"\";position: absolute;border-left: 1px solid gray;box-sizing: border-box;top: 0;bottom: 0;left: 50%;z-index: -1;}#sk-container-id-9 div.sk-parallel-item {display: flex;flex-direction: column;z-index: 1;position: relative;background-color: white;}#sk-container-id-9 div.sk-parallel-item:first-child::after {align-self: flex-end;width: 50%;}#sk-container-id-9 div.sk-parallel-item:last-child::after {align-self: flex-start;width: 50%;}#sk-container-id-9 div.sk-parallel-item:only-child::after {width: 0;}#sk-container-id-9 div.sk-dashed-wrapped {border: 1px dashed gray;margin: 0 0.4em 0.5em 0.4em;box-sizing: border-box;padding-bottom: 0.4em;background-color: white;}#sk-container-id-9 div.sk-label label {font-family: monospace;font-weight: bold;display: inline-block;line-height: 1.2em;}#sk-container-id-9 div.sk-label-container {text-align: center;}#sk-container-id-9 div.sk-container {/* jupyter's `normalize.less` sets `[hidden] { display: none; }` but bootstrap.min.css set `[hidden] { display: none !important; }` so we also need the `!important` here to be able to override the default hidden behavior on the sphinx rendered scikit-learn.org. See: https://github.com/scikit-learn/scikit-learn/issues/21755 */display: inline-block !important;position: relative;}#sk-container-id-9 div.sk-text-repr-fallback {display: none;}</style><div id=\"sk-container-id-9\" class=\"sk-top-container\"><div class=\"sk-text-repr-fallback\"><pre>LogisticRegression(random_state=0)</pre><b>In a Jupyter environment, please rerun this cell to show the HTML representation or trust the notebook. <br />On GitHub, the HTML representation is unable to render, please try loading this page with nbviewer.org.</b></div><div class=\"sk-container\" hidden><div class=\"sk-item\"><div class=\"sk-estimator sk-toggleable\"><input class=\"sk-toggleable__control sk-hidden--visually\" id=\"sk-estimator-id-9\" type=\"checkbox\" checked><label for=\"sk-estimator-id-9\" class=\"sk-toggleable__label sk-toggleable__label-arrow\">LogisticRegression</label><div class=\"sk-toggleable__content\"><pre>LogisticRegression(random_state=0)</pre></div></div></div></div></div>"
            ]
          },
          "metadata": {},
          "execution_count": 54
        }
      ]
    },
    {
      "cell_type": "markdown",
      "source": [
        "# Displaying Logistic Regression Model Parameters\n",
        "This cell displays the parameters of the fitted logistic regression model. It provides information about the configuration of the model."
      ],
      "metadata": {
        "id": "ZlptjQ_VLadI"
      }
    },
    {
      "cell_type": "code",
      "source": [
        "LogisticRegression(C=1.0, class_weight=None, dual=False, fit_intercept=True, intercept_scaling=1, l1_ratio=None, max_iter=100,\n",
        "                   multi_class='warn', n_jobs=None, penalty='l2',  random_state=0, solver='warn', tol=0.0001, verbose=0,\n",
        "                   warm_start=False)"
      ],
      "metadata": {
        "colab": {
          "base_uri": "https://localhost:8080/"
        },
        "id": "h7xhMxDuVwpV",
        "outputId": "9e4ebc3c-900f-414c-ad7e-ab195ddcfc60"
      },
      "execution_count": null,
      "outputs": [
        {
          "output_type": "execute_result",
          "data": {
            "text/plain": [
              "LogisticRegression(multi_class='warn', random_state=0, solver='warn')"
            ],
            "text/html": [
              "<style>#sk-container-id-10 {color: black;background-color: white;}#sk-container-id-10 pre{padding: 0;}#sk-container-id-10 div.sk-toggleable {background-color: white;}#sk-container-id-10 label.sk-toggleable__label {cursor: pointer;display: block;width: 100%;margin-bottom: 0;padding: 0.3em;box-sizing: border-box;text-align: center;}#sk-container-id-10 label.sk-toggleable__label-arrow:before {content: \"▸\";float: left;margin-right: 0.25em;color: #696969;}#sk-container-id-10 label.sk-toggleable__label-arrow:hover:before {color: black;}#sk-container-id-10 div.sk-estimator:hover label.sk-toggleable__label-arrow:before {color: black;}#sk-container-id-10 div.sk-toggleable__content {max-height: 0;max-width: 0;overflow: hidden;text-align: left;background-color: #f0f8ff;}#sk-container-id-10 div.sk-toggleable__content pre {margin: 0.2em;color: black;border-radius: 0.25em;background-color: #f0f8ff;}#sk-container-id-10 input.sk-toggleable__control:checked~div.sk-toggleable__content {max-height: 200px;max-width: 100%;overflow: auto;}#sk-container-id-10 input.sk-toggleable__control:checked~label.sk-toggleable__label-arrow:before {content: \"▾\";}#sk-container-id-10 div.sk-estimator input.sk-toggleable__control:checked~label.sk-toggleable__label {background-color: #d4ebff;}#sk-container-id-10 div.sk-label input.sk-toggleable__control:checked~label.sk-toggleable__label {background-color: #d4ebff;}#sk-container-id-10 input.sk-hidden--visually {border: 0;clip: rect(1px 1px 1px 1px);clip: rect(1px, 1px, 1px, 1px);height: 1px;margin: -1px;overflow: hidden;padding: 0;position: absolute;width: 1px;}#sk-container-id-10 div.sk-estimator {font-family: monospace;background-color: #f0f8ff;border: 1px dotted black;border-radius: 0.25em;box-sizing: border-box;margin-bottom: 0.5em;}#sk-container-id-10 div.sk-estimator:hover {background-color: #d4ebff;}#sk-container-id-10 div.sk-parallel-item::after {content: \"\";width: 100%;border-bottom: 1px solid gray;flex-grow: 1;}#sk-container-id-10 div.sk-label:hover label.sk-toggleable__label {background-color: #d4ebff;}#sk-container-id-10 div.sk-serial::before {content: \"\";position: absolute;border-left: 1px solid gray;box-sizing: border-box;top: 0;bottom: 0;left: 50%;z-index: 0;}#sk-container-id-10 div.sk-serial {display: flex;flex-direction: column;align-items: center;background-color: white;padding-right: 0.2em;padding-left: 0.2em;position: relative;}#sk-container-id-10 div.sk-item {position: relative;z-index: 1;}#sk-container-id-10 div.sk-parallel {display: flex;align-items: stretch;justify-content: center;background-color: white;position: relative;}#sk-container-id-10 div.sk-item::before, #sk-container-id-10 div.sk-parallel-item::before {content: \"\";position: absolute;border-left: 1px solid gray;box-sizing: border-box;top: 0;bottom: 0;left: 50%;z-index: -1;}#sk-container-id-10 div.sk-parallel-item {display: flex;flex-direction: column;z-index: 1;position: relative;background-color: white;}#sk-container-id-10 div.sk-parallel-item:first-child::after {align-self: flex-end;width: 50%;}#sk-container-id-10 div.sk-parallel-item:last-child::after {align-self: flex-start;width: 50%;}#sk-container-id-10 div.sk-parallel-item:only-child::after {width: 0;}#sk-container-id-10 div.sk-dashed-wrapped {border: 1px dashed gray;margin: 0 0.4em 0.5em 0.4em;box-sizing: border-box;padding-bottom: 0.4em;background-color: white;}#sk-container-id-10 div.sk-label label {font-family: monospace;font-weight: bold;display: inline-block;line-height: 1.2em;}#sk-container-id-10 div.sk-label-container {text-align: center;}#sk-container-id-10 div.sk-container {/* jupyter's `normalize.less` sets `[hidden] { display: none; }` but bootstrap.min.css set `[hidden] { display: none !important; }` so we also need the `!important` here to be able to override the default hidden behavior on the sphinx rendered scikit-learn.org. See: https://github.com/scikit-learn/scikit-learn/issues/21755 */display: inline-block !important;position: relative;}#sk-container-id-10 div.sk-text-repr-fallback {display: none;}</style><div id=\"sk-container-id-10\" class=\"sk-top-container\"><div class=\"sk-text-repr-fallback\"><pre>LogisticRegression(multi_class=&#x27;warn&#x27;, random_state=0, solver=&#x27;warn&#x27;)</pre><b>In a Jupyter environment, please rerun this cell to show the HTML representation or trust the notebook. <br />On GitHub, the HTML representation is unable to render, please try loading this page with nbviewer.org.</b></div><div class=\"sk-container\" hidden><div class=\"sk-item\"><div class=\"sk-estimator sk-toggleable\"><input class=\"sk-toggleable__control sk-hidden--visually\" id=\"sk-estimator-id-10\" type=\"checkbox\" checked><label for=\"sk-estimator-id-10\" class=\"sk-toggleable__label sk-toggleable__label-arrow\">LogisticRegression</label><div class=\"sk-toggleable__content\"><pre>LogisticRegression(multi_class=&#x27;warn&#x27;, random_state=0, solver=&#x27;warn&#x27;)</pre></div></div></div></div></div>"
            ]
          },
          "metadata": {},
          "execution_count": 55
        }
      ]
    },
    {
      "cell_type": "markdown",
      "source": [
        "# Predicting Test Set Results\n",
        "This cell predicts the target variable values for the test set using the trained logistic regression model."
      ],
      "metadata": {
        "id": "VKTosiMILex4"
      }
    },
    {
      "cell_type": "code",
      "source": [
        "#Predicting the test set result\n",
        "y_pred= classifier.predict(x_test)"
      ],
      "metadata": {
        "id": "C5qZHD1aV5cN"
      },
      "execution_count": null,
      "outputs": []
    },
    {
      "cell_type": "markdown",
      "source": [
        "# Creating and Displaying Confusion Matrix\n",
        "This cell calculates and displays the confusion matrix based on the predicted values and actual values of the test set. Additionally, it defines a function to plot the confusion matrix in a readable format."
      ],
      "metadata": {
        "id": "NZ9aP-ywLhoI"
      }
    },
    {
      "cell_type": "code",
      "source": [
        "#Creating the Confusion matrix\n",
        "from sklearn.metrics import confusion_matrix\n",
        "cm = confusion_matrix(y_test, y_pred)\n",
        "def plot(y_true, y_pred):\n",
        "  labels = unique_labels(y_test)\n",
        "  column = [f'Predicted({label})' for label in labels]\n",
        "  indices = [f'Actual({label})' for label in labels]\n",
        "  table = pd.DataFrame(confusion_matrix(y_true, y_pred),\n",
        "                       columns = column, index = indices)\n",
        "  return table\n",
        "print(\"The confusion matrix of the model is, \\n\")\n",
        "plot(y_test, y_pred)"
      ],
      "metadata": {
        "colab": {
          "base_uri": "https://localhost:8080/"
        },
        "id": "FZrB1CWeV8S1",
        "outputId": "97d55007-06f1-4abe-c945-ba4873fa90ac"
      },
      "execution_count": null,
      "outputs": [
        {
          "output_type": "stream",
          "name": "stdout",
          "text": [
            "The confusion matrix of the model is, \n",
            "\n"
          ]
        },
        {
          "output_type": "execute_result",
          "data": {
            "text/plain": [
              "           Predicted(0)  Predicted(1)\n",
              "Actual(0)            65             3\n",
              "Actual(1)             8            24"
            ],
            "text/html": [
              "\n",
              "\n",
              "  <div id=\"df-ca803133-495f-409d-bd78-748937a15827\">\n",
              "    <div class=\"colab-df-container\">\n",
              "      <div>\n",
              "<style scoped>\n",
              "    .dataframe tbody tr th:only-of-type {\n",
              "        vertical-align: middle;\n",
              "    }\n",
              "\n",
              "    .dataframe tbody tr th {\n",
              "        vertical-align: top;\n",
              "    }\n",
              "\n",
              "    .dataframe thead th {\n",
              "        text-align: right;\n",
              "    }\n",
              "</style>\n",
              "<table border=\"1\" class=\"dataframe\">\n",
              "  <thead>\n",
              "    <tr style=\"text-align: right;\">\n",
              "      <th></th>\n",
              "      <th>Predicted(0)</th>\n",
              "      <th>Predicted(1)</th>\n",
              "    </tr>\n",
              "  </thead>\n",
              "  <tbody>\n",
              "    <tr>\n",
              "      <th>Actual(0)</th>\n",
              "      <td>65</td>\n",
              "      <td>3</td>\n",
              "    </tr>\n",
              "    <tr>\n",
              "      <th>Actual(1)</th>\n",
              "      <td>8</td>\n",
              "      <td>24</td>\n",
              "    </tr>\n",
              "  </tbody>\n",
              "</table>\n",
              "</div>\n",
              "      <button class=\"colab-df-convert\" onclick=\"convertToInteractive('df-ca803133-495f-409d-bd78-748937a15827')\"\n",
              "              title=\"Convert this dataframe to an interactive table.\"\n",
              "              style=\"display:none;\">\n",
              "\n",
              "  <svg xmlns=\"http://www.w3.org/2000/svg\" height=\"24px\"viewBox=\"0 0 24 24\"\n",
              "       width=\"24px\">\n",
              "    <path d=\"M0 0h24v24H0V0z\" fill=\"none\"/>\n",
              "    <path d=\"M18.56 5.44l.94 2.06.94-2.06 2.06-.94-2.06-.94-.94-2.06-.94 2.06-2.06.94zm-11 1L8.5 8.5l.94-2.06 2.06-.94-2.06-.94L8.5 2.5l-.94 2.06-2.06.94zm10 10l.94 2.06.94-2.06 2.06-.94-2.06-.94-.94-2.06-.94 2.06-2.06.94z\"/><path d=\"M17.41 7.96l-1.37-1.37c-.4-.4-.92-.59-1.43-.59-.52 0-1.04.2-1.43.59L10.3 9.45l-7.72 7.72c-.78.78-.78 2.05 0 2.83L4 21.41c.39.39.9.59 1.41.59.51 0 1.02-.2 1.41-.59l7.78-7.78 2.81-2.81c.8-.78.8-2.07 0-2.86zM5.41 20L4 18.59l7.72-7.72 1.47 1.35L5.41 20z\"/>\n",
              "  </svg>\n",
              "      </button>\n",
              "\n",
              "\n",
              "\n",
              "    <div id=\"df-e8e1bdd2-df13-40ad-bc27-0a757e569473\">\n",
              "      <button class=\"colab-df-quickchart\" onclick=\"quickchart('df-e8e1bdd2-df13-40ad-bc27-0a757e569473')\"\n",
              "              title=\"Suggest charts.\"\n",
              "              style=\"display:none;\">\n",
              "\n",
              "<svg xmlns=\"http://www.w3.org/2000/svg\" height=\"24px\"viewBox=\"0 0 24 24\"\n",
              "     width=\"24px\">\n",
              "    <g>\n",
              "        <path d=\"M19 3H5c-1.1 0-2 .9-2 2v14c0 1.1.9 2 2 2h14c1.1 0 2-.9 2-2V5c0-1.1-.9-2-2-2zM9 17H7v-7h2v7zm4 0h-2V7h2v10zm4 0h-2v-4h2v4z\"/>\n",
              "    </g>\n",
              "</svg>\n",
              "      </button>\n",
              "    </div>\n",
              "\n",
              "<style>\n",
              "  .colab-df-quickchart {\n",
              "    background-color: #E8F0FE;\n",
              "    border: none;\n",
              "    border-radius: 50%;\n",
              "    cursor: pointer;\n",
              "    display: none;\n",
              "    fill: #1967D2;\n",
              "    height: 32px;\n",
              "    padding: 0 0 0 0;\n",
              "    width: 32px;\n",
              "  }\n",
              "\n",
              "  .colab-df-quickchart:hover {\n",
              "    background-color: #E2EBFA;\n",
              "    box-shadow: 0px 1px 2px rgba(60, 64, 67, 0.3), 0px 1px 3px 1px rgba(60, 64, 67, 0.15);\n",
              "    fill: #174EA6;\n",
              "  }\n",
              "\n",
              "  [theme=dark] .colab-df-quickchart {\n",
              "    background-color: #3B4455;\n",
              "    fill: #D2E3FC;\n",
              "  }\n",
              "\n",
              "  [theme=dark] .colab-df-quickchart:hover {\n",
              "    background-color: #434B5C;\n",
              "    box-shadow: 0px 1px 3px 1px rgba(0, 0, 0, 0.15);\n",
              "    filter: drop-shadow(0px 1px 2px rgba(0, 0, 0, 0.3));\n",
              "    fill: #FFFFFF;\n",
              "  }\n",
              "</style>\n",
              "\n",
              "    <script>\n",
              "      async function quickchart(key) {\n",
              "        const containerElement = document.querySelector('#' + key);\n",
              "        const charts = await google.colab.kernel.invokeFunction(\n",
              "            'suggestCharts', [key], {});\n",
              "      }\n",
              "    </script>\n",
              "\n",
              "      <script>\n",
              "\n",
              "function displayQuickchartButton(domScope) {\n",
              "  let quickchartButtonEl =\n",
              "    domScope.querySelector('#df-e8e1bdd2-df13-40ad-bc27-0a757e569473 button.colab-df-quickchart');\n",
              "  quickchartButtonEl.style.display =\n",
              "    google.colab.kernel.accessAllowed ? 'block' : 'none';\n",
              "}\n",
              "\n",
              "        displayQuickchartButton(document);\n",
              "      </script>\n",
              "      <style>\n",
              "    .colab-df-container {\n",
              "      display:flex;\n",
              "      flex-wrap:wrap;\n",
              "      gap: 12px;\n",
              "    }\n",
              "\n",
              "    .colab-df-convert {\n",
              "      background-color: #E8F0FE;\n",
              "      border: none;\n",
              "      border-radius: 50%;\n",
              "      cursor: pointer;\n",
              "      display: none;\n",
              "      fill: #1967D2;\n",
              "      height: 32px;\n",
              "      padding: 0 0 0 0;\n",
              "      width: 32px;\n",
              "    }\n",
              "\n",
              "    .colab-df-convert:hover {\n",
              "      background-color: #E2EBFA;\n",
              "      box-shadow: 0px 1px 2px rgba(60, 64, 67, 0.3), 0px 1px 3px 1px rgba(60, 64, 67, 0.15);\n",
              "      fill: #174EA6;\n",
              "    }\n",
              "\n",
              "    [theme=dark] .colab-df-convert {\n",
              "      background-color: #3B4455;\n",
              "      fill: #D2E3FC;\n",
              "    }\n",
              "\n",
              "    [theme=dark] .colab-df-convert:hover {\n",
              "      background-color: #434B5C;\n",
              "      box-shadow: 0px 1px 3px 1px rgba(0, 0, 0, 0.15);\n",
              "      filter: drop-shadow(0px 1px 2px rgba(0, 0, 0, 0.3));\n",
              "      fill: #FFFFFF;\n",
              "    }\n",
              "  </style>\n",
              "\n",
              "      <script>\n",
              "        const buttonEl =\n",
              "          document.querySelector('#df-ca803133-495f-409d-bd78-748937a15827 button.colab-df-convert');\n",
              "        buttonEl.style.display =\n",
              "          google.colab.kernel.accessAllowed ? 'block' : 'none';\n",
              "\n",
              "        async function convertToInteractive(key) {\n",
              "          const element = document.querySelector('#df-ca803133-495f-409d-bd78-748937a15827');\n",
              "          const dataTable =\n",
              "            await google.colab.kernel.invokeFunction('convertToInteractive',\n",
              "                                                     [key], {});\n",
              "          if (!dataTable) return;\n",
              "\n",
              "          const docLinkHtml = 'Like what you see? Visit the ' +\n",
              "            '<a target=\"_blank\" href=https://colab.research.google.com/notebooks/data_table.ipynb>data table notebook</a>'\n",
              "            + ' to learn more about interactive tables.';\n",
              "          element.innerHTML = '';\n",
              "          dataTable['output_type'] = 'display_data';\n",
              "          await google.colab.output.renderOutput(dataTable, element);\n",
              "          const docLink = document.createElement('div');\n",
              "          docLink.innerHTML = docLinkHtml;\n",
              "          element.appendChild(docLink);\n",
              "        }\n",
              "      </script>\n",
              "    </div>\n",
              "  </div>\n"
            ]
          },
          "metadata": {},
          "execution_count": 57
        }
      ]
    },
    {
      "cell_type": "markdown",
      "source": [
        "# Sensitivity and specificity\n",
        "*Sensitivity* (True Positive Rate) indicates how well the model is able to identify the positive class instances correctly, while *Specificity* measures the model's ability to correctly identify the negative class instances. Both metrics provide valuable insights into the performance of the model, especially in scenarios where class imbalance or different cost considerations are present."
      ],
      "metadata": {
        "id": "iz0CLve9N7xS"
      }
    },
    {
      "cell_type": "code",
      "source": [
        "# Calculate Sensitivity and Specificity\n",
        "def calculate_sensitivity_specificity(confusion_matrix):\n",
        "    true_positive = confusion_matrix[1, 1]\n",
        "    true_negative = confusion_matrix[0, 0]\n",
        "    false_positive = confusion_matrix[0, 1]\n",
        "    false_negative = confusion_matrix[1, 0]\n",
        "\n",
        "    sensitivity = true_positive / (true_positive + false_negative)\n",
        "    specificity = true_negative / (true_negative + false_positive)\n",
        "\n",
        "    return sensitivity, specificity\n",
        "\n",
        "# Calculate Sensitivity and Specificity for the given confusion matrix\n",
        "sensitivity, specificity = calculate_sensitivity_specificity(cm)\n",
        "\n",
        "print(\"Sensitivity (True Positive Rate) =\", round(sensitivity * 100, 2), \"%\")\n",
        "print(\"Specificity (True Negative Rate) =\", round(specificity * 100, 2), \"%\")"
      ],
      "metadata": {
        "colab": {
          "base_uri": "https://localhost:8080/"
        },
        "id": "MSWMlbMvN5Yp",
        "outputId": "d26eb52a-fcf9-403b-d4f6-09aa8c79fbe8"
      },
      "execution_count": null,
      "outputs": [
        {
          "output_type": "stream",
          "name": "stdout",
          "text": [
            "Sensitivity (True Positive Rate) = 75.0 %\n",
            "Specificity (True Negative Rate) = 95.59 %\n"
          ]
        }
      ]
    },
    {
      "cell_type": "markdown",
      "source": [
        "# Printing Model Accuracy\n",
        "This cell prints the accuracy of the logistic regression model on the test set."
      ],
      "metadata": {
        "id": "fR0uZvXmLlfU"
      }
    },
    {
      "cell_type": "code",
      "source": [
        "# Printing the accuracy of the model\n",
        "print(\"Accuracy of the model =\", round(accuracy_score(y_test, y_pred) * 100, 2), \"%\")"
      ],
      "metadata": {
        "colab": {
          "base_uri": "https://localhost:8080/"
        },
        "id": "z-2h2SzKZrUM",
        "outputId": "be5c8679-596d-4913-eaaf-321fa3aa7c23"
      },
      "execution_count": null,
      "outputs": [
        {
          "output_type": "stream",
          "name": "stdout",
          "text": [
            "Accuracy of the model = 89.0 %\n"
          ]
        }
      ]
    },
    {
      "cell_type": "markdown",
      "source": [
        "# Visualizing Training and Test Set Results\n",
        "Here, you visualize the training set results by plotting the decision boundary and data points on a 2D plot. Different colors represent different classes, and the plot helps you visualize how well the logistic regression model separates the classes."
      ],
      "metadata": {
        "id": "470uLzhlLouU"
      }
    },
    {
      "cell_type": "code",
      "source": [
        "# Visualizing Training and Test Set Results\n",
        "from matplotlib.colors import ListedColormap\n",
        "\n",
        "def visualize_results(x_set, y_set, title, position):\n",
        "    x1, x2 = nm.meshgrid(nm.arange(start = x_set[:, 0].min() - 1, stop = x_set[:, 0].max() + 1, step = 0.01),\n",
        "                         nm.arange(start = x_set[:, 1].min() - 1, stop = x_set[:, 1].max() + 1, step = 0.01))\n",
        "    mtp.subplot(1, 2, position)\n",
        "    mtp.contourf(x1, x2, classifier.predict(nm.array([x1.ravel(), x2.ravel()]).T).reshape(x1.shape),\n",
        "                 alpha = 0.75, cmap = ListedColormap(('purple', 'green')))\n",
        "    mtp.xlim(x1.min(), x1.max())\n",
        "    mtp.ylim(x2.min(), x2.max())\n",
        "    for i, j in enumerate(nm.unique(y_set)):\n",
        "        mtp.scatter(x_set[y_set == j, 0], x_set[y_set == j, 1],\n",
        "                    color = ListedColormap(('purple', 'green'))(i), label = j)\n",
        "    mtp.title(title)\n",
        "    mtp.xlabel('Age')\n",
        "    mtp.ylabel('Estimated Salary')\n",
        "    mtp.legend()\n",
        "\n",
        "mtp.figure(figsize=(12, 6))\n",
        "# Visualize Training Set Results\n",
        "visualize_results(x_train, y_train, 'Logistic Regression (Training set)', 1)\n",
        "\n",
        "# Visualize Test Set Results\n",
        "visualize_results(x_test, y_test, 'Logistic Regression (Test set)', 2)\n",
        "\n",
        "mtp.tight_layout()\n",
        "mtp.show()"
      ],
      "metadata": {
        "colab": {
          "base_uri": "https://localhost:8080/"
        },
        "id": "P_4GEj69WCQN",
        "outputId": "fbbea3c0-1b2a-4798-8708-9120581e636b"
      },
      "execution_count": null,
      "outputs": [
        {
          "output_type": "display_data",
          "data": {
            "text/plain": [
              "<Figure size 1200x600 with 2 Axes>"
            ],
            "image/png": "[encoded data removed]"
          },
          "metadata": {}
        }
      ]
    },
    {
      "cell_type": "markdown",
      "source": [
        "# Conclusion\n",
        "\n",
        "In this experiment, we applied the Logistic Regression algorithm to a dataset representing customer data, aiming to predict whether a customer would make a purchase based on their age and estimated salary. We pre-processed the data by splitting it into training and test sets, and standardizing the features. The Logistic Regression model was trained on the training set and evaluated on the test set. We visualized the results using contour plots, highlighting the decision boundary and data points categorized by their true labels. The experiment provided valuable insights into the application of Logistic Regression for binary classification tasks and the visualization of decision boundaries, contributing to our understanding of this fundamental machine learning technique."
      ],
      "metadata": {
        "id": "2D8V0C7YPJfn"
      }
    },
    {
      "cell_type": "markdown",
      "source": [
        "### ***Assesment***"
      ],
      "metadata": {
        "id": "Zxsp-ZpT-Tqs"
      }
    },
    {
      "cell_type": "markdown",
      "source": [
        "**1. What is a residual in linear regression and how is it used in model evaluation?**\n",
        "\n",
        "In linear regression, a residual refers to the difference between the observed (actual) value of the dependent variable and the predicted value given by the regression model. Mathematically, the residual for the i-th data point is calculated as:\n",
        "\n",
        "Residual[i] = Observed Value[i] - Predicted Value[i]\n",
        "\n",
        "Residuals are used in model evaluation to assess the goodness of fit of the regression model. By analyzing the residuals, you can determine how well the model's predictions match the actual data. Key uses of residuals in model evaluation include:\n",
        "- **Checking for linearity:** If the residuals exhibit a clear pattern or trend, it suggests that the linear assumption might not hold.\n",
        "- **Assessing homoscedasticity:** Homoscedasticity means the residuals have constant variance across all levels of the predictor variables.\n",
        "- **Identifying outliers:** Large residuals could indicate potential outliers or influential data points.\n",
        "- **Model improvement:** Analyzing residuals might suggest ways to improve the model, such as adding higher-order terms or addressing multicollinearity.\n",
        "\n",
        "\n",
        "---\n",
        "\n",
        "\n",
        "**2. What is the difference between linear regression and non-linear regression? Explain with an example.**\n",
        "\n",
        "Linear regression aims to model the relationship between the independent variable(s) and the dependent variable as a linear equation, typically represented as Y = mX + b, where Y is the dependent variable, X is the independent variable, m is the slope, and b is the intercept. Non-linear regression, on the other hand, allows for more complex relationships between variables by using non-linear equations.\n",
        "\n",
        "Example:\n",
        "- **Linear Regression:** Predicting a person's weight (Y) based on their height (X). The relationship might be assumed to be linear: taller people are generally heavier.\n",
        "- **Non-linear Regression:** Predicting a person's blood pressure (Y) based on their age (X). The relationship could be more complex, following a non-linear pattern due to factors like age-related health changes.\n",
        "\n",
        "\n",
        "---\n",
        "\n",
        "\n",
        "**3. How do we measure the strength of a linear relationship between two variables? Is it important for linear regression?**\n",
        "\n",
        "The strength of a linear relationship between two variables is often measured using the Pearson correlation coefficient (r). It quantifies the degree of linear dependence between two variables. The Pearson correlation coefficient ranges from -1 (perfect negative correlation) to 1 (perfect positive correlation), with 0 indicating no linear correlation.\n",
        "\n",
        "Yes, the strength of a linear relationship is important for linear regression. Linear regression assumes a linear relationship between the independent and dependent variables. If the correlation between them is weak (close to 0), linear regression might not be the best choice, as it may not accurately capture the underlying patterns in the data.\n",
        "\n",
        "\n",
        "---\n",
        "\n",
        "\n",
        "**4. A model which is suffering from —--------------- (both training and test error are very high) will have high bias and low variance resulting in a very high loss (hence the high error). An algorithm having access to a larger hypothesis space (as a result of different training data sets, features, and hyperparameters) would result in models having higher —----------------. In other words, these models will be high —-------------.**\n",
        "\n",
        "A model which is suffering from **underfitting** (both training and test error are very high) will have high bias and low variance resulting in a very high loss (hence the high error). An algorithm having access to a larger hypothesis space (as a result of different training data sets, features, and hyperparameters) would result in models having higher **capacity**. In other words, these models will be high **complexity**.\n",
        "\n",
        "\n",
        "---\n",
        "\n",
        "\n",
        "**5. Model bias can be lowered using good machine learning algorithms, unbiased training data, and —-----------------. Model variance can be lowered using good machine learning algorithms, a very large set of training data (more than required), and more —---------------------- or less noisy features if possible that are correlated to the target variable.**\n",
        "\n",
        "Model bias can be lowered using good machine learning algorithms, unbiased training data, and **feature engineering**. Model variance can be lowered using good machine learning algorithms, a very large set of training data (more than required), and more **regularization techniques** or less noisy features if possible that are correlated to the target variable."
      ],
      "metadata": {
        "id": "zBG1doIgMLUB"
      }
    }
  ]
}