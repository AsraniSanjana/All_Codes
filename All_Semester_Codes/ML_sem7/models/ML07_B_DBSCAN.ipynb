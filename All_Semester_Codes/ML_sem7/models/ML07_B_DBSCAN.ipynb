{
  "nbformat": 4,
  "nbformat_minor": 0,
  "metadata": {
    "colab": {
      "provenance": [],
      "authorship_tag": "ABX9TyNppHIzhWItuWF8467ykubn",
      "include_colab_link": true
    },
    "kernelspec": {
      "name": "python3",
      "display_name": "Python 3"
    },
    "language_info": {
      "name": "python"
    }
  },
  "cells": [
    {
      "cell_type": "markdown",
      "metadata": {
        "id": "view-in-github",
        "colab_type": "text"
      },
      "source": [
        "<a href=\"https://colab.research.google.com/github/AsraniSanjana/All_Codes/blob/main/All_Semester_Codes/ML_sem7/models/ML07_B_DBSCAN.ipynb\" target=\"_parent\"><img src=\"https://colab.research.google.com/assets/colab-badge.svg\" alt=\"Open In Colab\"/></a>"
      ]
    },
    {
      "cell_type": "markdown",
      "source": [
        "# **Instructions:**\n",
        "\n",
        "1. Understand key parameters of DBSCAN\n",
        "2. Find out the value of key parameters.\n",
        "\n"
      ],
      "metadata": {
        "id": "VL_w9y3_di5O"
      }
    },
    {
      "cell_type": "code",
      "execution_count": null,
      "metadata": {
        "id": "xu_ChE2RZ_cT",
        "colab": {
          "base_uri": "https://localhost:8080/"
        },
        "outputId": "3e796336-5bf4-46e2-c25f-f03b6000893e"
      },
      "outputs": [
        {
          "output_type": "stream",
          "name": "stdout",
          "text": [
            "Lower Triangular Matrix of Distances:\n",
            "[[ 0.          0.          0.          0.          0.          0.        ]\n",
            " [ 1.          0.          0.          0.          0.          0.        ]\n",
            " [ 1.41421356  1.          0.          0.          0.          0.        ]\n",
            " [ 8.60232527  8.06225775  7.21110255  0.          0.          0.        ]\n",
            " [10.          9.43398113  8.60232527  1.41421356  0.          0.        ]\n",
            " [ 9.89949494  9.21954446  8.48528137  2.          1.41421356  0.        ]]\n",
            "\n",
            "Point Status (Cluster Assignments):\n",
            "Point 1: Border\n",
            "Point 2: Border\n",
            "Point 3: Border\n",
            "Point 4: Core\n",
            "Point 5: Core\n",
            "Point 6: Core\n"
          ]
        }
      ],
      "source": [
        "import numpy as np\n",
        "from sklearn.cluster import DBSCAN\n",
        "from scipy.spatial import distance_matrix\n",
        "\n",
        "# Generate sample data (you can replace this with your own dataset)\n",
        "data = np.array([[1, 2],\n",
        "                 [1, 3],\n",
        "                 [2, 3],\n",
        "                 [8, 7],\n",
        "                 [9, 8],\n",
        "                 [8, 9]])\n",
        "\n",
        "# Calculate the pairwise distance matrix\n",
        "dist_matrix = distance_matrix(data, data)\n",
        "\n",
        "# Extract the lower triangular part of the distance matrix\n",
        "lower_triangular = np.tril(dist_matrix, k=-1)\n",
        "\n",
        "# Print the lower triangular matrix of distances\n",
        "print(\"Lower Triangular Matrix of Distances:\")\n",
        "print(lower_triangular)\n",
        "\n",
        "# Perform DBSCAN clustering\n",
        "epsilon = 2.0  # Set the epsilon (Eps) value\n",
        "min_samples = 2  # Set the MinPoints value\n",
        "dbscan = DBSCAN(eps=epsilon, min_samples=min_samples)\n",
        "cluster_assignments = dbscan.fit_predict(data)\n",
        "\n",
        "# Print the cluster assignments (border, core, or outlier)\n",
        "labels = {0: \"Outlier\"}\n",
        "for i, label in enumerate(cluster_assignments):\n",
        "    if label == -1:\n",
        "        labels[i] = \"Outlier\"\n",
        "    elif label == 0:\n",
        "        labels[i] = \"Border\"\n",
        "    else:\n",
        "        labels[i] = \"Core\"\n",
        "\n",
        "print(\"\\nPoint Status (Cluster Assignments):\")\n",
        "for i, status in labels.items():\n",
        "    print(f\"Point {i + 1}: {status}\")\n"
      ]
    },
    {
      "cell_type": "markdown",
      "source": [
        "# **ASSESSMENT**\n",
        "\n",
        "1. **Is it necessary to provide the number of clusters prior to the implementation of DBSCAN?**\n",
        "\n",
        "No, it is not necessary to provide the number of clusters prior to implementing DBSCAN (Density-Based Spatial Clustering of Applications with Noise). One of the advantages of DBSCAN is that it can automatically discover the number of clusters within the data based on the density of data points, making it a density-based clustering algorithm.\n",
        "\n",
        "\n",
        "In DBSCAN, clusters are formed based on the density of data points rather than requiring a predefined number of clusters. The algorithm identifies clusters as areas of high data point density separated by areas of lower density. Therefore, you do not need to specify the number of clusters in advance, which is a common requirement for some other clustering algorithms like k-means.\n",
        "\n",
        "However, the following two important parameters need to be specified:\n",
        "\n",
        "\n",
        "1. **Epsilon (Eps)**: This parameter defines the radius within which the algorithm searches for neighboring points. It determines the spatial extent of a data point's neighborhood.\n",
        "\n",
        "\n",
        "2. **MinPoints**: This parameter specifies the minimum number of data points required to form a dense region or cluster. Data points with at least MinPoints neighbors within an Epsilon radius are considered core points.\n",
        "\n",
        "\n",
        "\n",
        "---\n",
        "\n",
        "\n",
        "2. **Is the algorithm sensitive to outliers as is the case of K-Means clustering?**\n",
        "\n",
        "DBSCAN (Density-Based Spatial Clustering of Applications with Noise) is less sensitive to outliers compared to the K-Means clustering algorithm. Here's why:\n",
        "\n",
        "\n",
        "1. **K-Means Sensitivity to Outliers:**\n",
        "   - In K-Means clustering, each data point is assigned to the nearest centroid. Outliers, which are data points significantly distant from the cluster centroids, can have a substantial impact on the clustering result.\n",
        "   - Outliers can disproportionately influence the position and size of clusters because they can \"pull\" cluster centroids towards them.\n",
        "   - K-Means aims to minimize the sum of squared distances between data points and their assigned centroids, so outliers can distort the means of clusters.\n",
        "\n",
        "\n",
        "2. **DBSCAN's Robustness to Outliers:**\n",
        "   - DBSCAN, on the other hand, is density-based rather than distance-based. It defines clusters as dense regions of data points separated by areas of lower point density.\n",
        "   - Outliers, by definition, are typically located in areas of lower density. DBSCAN identifies such points as noise and doesn't assign them to any cluster.\n",
        "   - DBSCAN's clustering result is less influenced by individual outliers because it primarily focuses on identifying dense regions and doesn't force every data point into a cluster.\n",
        "\n",
        "---\n",
        "\n",
        "\n",
        "3. **Explain the significance of Epsilon (Eps) and MinPoints.**\n",
        "\n",
        "1. **Epsilon (Eps)**: Epsilon (Eps) is a positive real number that defines the radius around each data point within which the algorithm searches for neighboring points.\n",
        "\n",
        "   - **Significance**: Epsilon determines the spatial extent of a data point's neighborhood. Data points within this distance are considered neighbors, and they play a central role in defining core points in DBSCAN.\n",
        "   - **Impact**:\n",
        "     - A larger Epsilon value results in a broader definition of what constitutes a neighbor, potentially leading to larger clusters.\n",
        "     - A smaller Epsilon value restricts the neighborhood size, potentially leading to smaller and more tightly packed clusters.\n",
        "   - **Tuning**: Choosing an appropriate Epsilon value depends on the specific characteristics of your dataset. It often requires domain knowledge or trial and error.\n",
        "\n",
        "\n",
        "2. **MinPoints**: MinPoints is a positive integer that specifies the minimum number of data points required to form a dense region or cluster.\n",
        "\n",
        "   - **Significance**: MinPoints defines the density threshold that determines whether a data point is a core point or not. Core points must have at least MinPoints neighbors (including themselves) within an Epsilon radius.\n",
        "   - **Impact**:\n",
        "     - Increasing MinPoints requires denser clusters to be formed, which leads to more robust clustering results but may result in smaller clusters.\n",
        "     - Decreasing MinPoints allows for the detection of sparser clusters but may increase the likelihood of noise points being included as part of a cluster.\n",
        "   - **Tuning**: Like Epsilon, selecting an appropriate MinPoints value depends on the dataset and the desired cluster density. It may require experimentation to find the optimal value.\n",
        "\n",
        "---\n",
        "\n",
        "\n",
        "4. **Explain the 3 types of data points used in the algorithm**\n",
        "\n",
        "- **Core Points:** These are data points that have a sufficient number of neighbors within a specified radius (\\(eps\\)).\n",
        "\n",
        "\n",
        "- **Border Points:** These are data points that are within the \\(eps\\) distance of a core point but do not have enough neighbors to be considered core points themselves.\n",
        "\n",
        "\n",
        "- **Noise (Outlier) Points:** These are data points that are neither core points nor border points. They are typically isolated and considered noise or outliers.\n",
        "\n",
        "---\n",
        "\n",
        "\n"
      ],
      "metadata": {
        "id": "NglaYnQ8aHah"
      }
    }
  ]
}