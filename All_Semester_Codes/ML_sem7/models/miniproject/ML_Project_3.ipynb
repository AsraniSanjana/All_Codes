{
  "nbformat": 4,
  "nbformat_minor": 0,
  "metadata": {
    "colab": {
      "provenance": [],
      "include_colab_link": true
    },
    "kernelspec": {
      "name": "python3",
      "display_name": "Python 3"
    },
    "language_info": {
      "name": "python"
    }
  },
  "cells": [
    {
      "cell_type": "markdown",
      "metadata": {
        "id": "view-in-github",
        "colab_type": "text"
      },
      "source": [
        "<a href=\"https://colab.research.google.com/github/AsraniSanjana/All_Codes/blob/main/All_Semester_Codes/ML_sem7/models/miniproject/ML_Project_3.ipynb\" target=\"_parent\"><img src=\"https://colab.research.google.com/assets/colab-badge.svg\" alt=\"Open In Colab\"/></a>"
      ]
    },
    {
      "cell_type": "markdown",
      "source": [
        "# **To recommend movies based on cluster of people present at a mall or gathering**\n",
        "\n",
        "\n",
        "Group members:\n",
        "- Sanjana Asrani  |  01\n",
        "- Vivek Balani | 05\n",
        "- Yash Brid | 11\n",
        "- Neeraj Chawla | 12"
      ],
      "metadata": {
        "id": "7uJXDvpaWrpp"
      }
    },
    {
      "cell_type": "code",
      "source": [
        "!pip install tabulate"
      ],
      "metadata": {
        "colab": {
          "base_uri": "https://localhost:8080/"
        },
        "id": "QArVUFEXm6m1",
        "outputId": "b540ecfe-001f-402e-eec3-5069bec4df8a"
      },
      "execution_count": null,
      "outputs": [
        {
          "output_type": "stream",
          "name": "stdout",
          "text": [
            "Requirement already satisfied: tabulate in /usr/local/lib/python3.10/dist-packages (0.9.0)\n"
          ]
        }
      ]
    },
    {
      "cell_type": "code",
      "source": [
        "from google.colab import drive\n",
        "drive.mount('/content/drive')"
      ],
      "metadata": {
        "colab": {
          "base_uri": "https://localhost:8080/"
        },
        "id": "C1pDOaYGm6-E",
        "outputId": "0744194d-8768-4a59-b8b6-f653a7db65eb"
      },
      "execution_count": null,
      "outputs": [
        {
          "output_type": "stream",
          "name": "stdout",
          "text": [
            "Drive already mounted at /content/drive; to attempt to forcibly remount, call drive.mount(\"/content/drive\", force_remount=True).\n"
          ]
        }
      ]
    },
    {
      "cell_type": "markdown",
      "source": [
        "# Imports\n",
        "\n",
        "This cell contains import statements for various Python libraries and modules that you'll be using in your analysis, including NumPy, Pandas, NetworkX, tabulate, Matplotlib, and scikit-learn."
      ],
      "metadata": {
        "id": "xudR9Q4pVdpH"
      }
    },
    {
      "cell_type": "code",
      "source": [
        "import ast\n",
        "import numpy as np\n",
        "import pandas as pd\n",
        "import networkx as nx\n",
        "from tabulate import tabulate\n",
        "import matplotlib.pyplot as plt\n",
        "from sklearn.cluster import KMeans\n",
        "from sklearn.decomposition import PCA\n",
        "from sklearn.preprocessing import MinMaxScaler\n",
        "from sklearn.preprocessing import StandardScaler\n",
        "from sklearn.metrics.pairwise import cosine_similarity"
      ],
      "metadata": {
        "id": "VB4Leq79Q2m5"
      },
      "execution_count": null,
      "outputs": []
    },
    {
      "cell_type": "markdown",
      "source": [
        "# Loading Datasets\n",
        "\n",
        "This cell specifies file paths for two datasets: movies and ratings.\n",
        "It loads the datasets into Pandas DataFrames: movies and ratings.\n",
        "It displays the first few rows of each dataset using the .head() method."
      ],
      "metadata": {
        "id": "9iTjJAslVjy8"
      }
    },
    {
      "cell_type": "code",
      "source": [
        "# File paths to for the datasets\n",
        "movies_file_path = '/content/drive/MyDrive/Life of Sem 7/ML/Project Datasets/movies.csv'\n",
        "ratings_file_path = '/content/drive/MyDrive/Life of Sem 7/ML/Project Datasets/ratings.csv'\n",
        "\n",
        "# Load the datasets\n",
        "movies = pd.read_csv(movies_file_path)\n",
        "ratings = pd.read_csv(ratings_file_path)\n",
        "\n",
        "# Displaying both datasets in a single output\n",
        "movies.head()"
      ],
      "metadata": {
        "id": "IIvDcuBtm7Jk",
        "colab": {
          "base_uri": "https://localhost:8080/",
          "height": 206
        },
        "outputId": "bf5716d7-5f34-4ce3-d268-f7db42ea6d43"
      },
      "execution_count": null,
      "outputs": [
        {
          "output_type": "execute_result",
          "data": {
            "text/plain": [
              "   movieId                title  \\\n",
              "0        2                Ariel   \n",
              "1        3  Shadows in Paradise   \n",
              "2        5           Four Rooms   \n",
              "3        6       Judgment Night   \n",
              "4       11            Star Wars   \n",
              "\n",
              "                                              genres  vote_average  vote_count  \n",
              "0  [{'id': 18, 'name': 'Drama'}, {'id': 80, 'name...           7.1          44  \n",
              "1  [{'id': 18, 'name': 'Drama'}, {'id': 35, 'name...           7.1          35  \n",
              "2  [{'id': 80, 'name': 'Crime'}, {'id': 35, 'name...           6.5         539  \n",
              "3  [{'id': 28, 'name': 'Action'}, {'id': 53, 'nam...           6.4          79  \n",
              "4  [{'id': 12, 'name': 'Adventure'}, {'id': 28, '...           8.1        6778  "
            ],
            "text/html": [
              "\n",
              "  <div id=\"df-24b57114-a022-4975-8c5e-d84c5a06122c\" class=\"colab-df-container\">\n",
              "    <div>\n",
              "<style scoped>\n",
              "    .dataframe tbody tr th:only-of-type {\n",
              "        vertical-align: middle;\n",
              "    }\n",
              "\n",
              "    .dataframe tbody tr th {\n",
              "        vertical-align: top;\n",
              "    }\n",
              "\n",
              "    .dataframe thead th {\n",
              "        text-align: right;\n",
              "    }\n",
              "</style>\n",
              "<table border=\"1\" class=\"dataframe\">\n",
              "  <thead>\n",
              "    <tr style=\"text-align: right;\">\n",
              "      <th></th>\n",
              "      <th>movieId</th>\n",
              "      <th>title</th>\n",
              "      <th>genres</th>\n",
              "      <th>vote_average</th>\n",
              "      <th>vote_count</th>\n",
              "    </tr>\n",
              "  </thead>\n",
              "  <tbody>\n",
              "    <tr>\n",
              "      <th>0</th>\n",
              "      <td>2</td>\n",
              "      <td>Ariel</td>\n",
              "      <td>[{'id': 18, 'name': 'Drama'}, {'id': 80, 'name...</td>\n",
              "      <td>7.1</td>\n",
              "      <td>44</td>\n",
              "    </tr>\n",
              "    <tr>\n",
              "      <th>1</th>\n",
              "      <td>3</td>\n",
              "      <td>Shadows in Paradise</td>\n",
              "      <td>[{'id': 18, 'name': 'Drama'}, {'id': 35, 'name...</td>\n",
              "      <td>7.1</td>\n",
              "      <td>35</td>\n",
              "    </tr>\n",
              "    <tr>\n",
              "      <th>2</th>\n",
              "      <td>5</td>\n",
              "      <td>Four Rooms</td>\n",
              "      <td>[{'id': 80, 'name': 'Crime'}, {'id': 35, 'name...</td>\n",
              "      <td>6.5</td>\n",
              "      <td>539</td>\n",
              "    </tr>\n",
              "    <tr>\n",
              "      <th>3</th>\n",
              "      <td>6</td>\n",
              "      <td>Judgment Night</td>\n",
              "      <td>[{'id': 28, 'name': 'Action'}, {'id': 53, 'nam...</td>\n",
              "      <td>6.4</td>\n",
              "      <td>79</td>\n",
              "    </tr>\n",
              "    <tr>\n",
              "      <th>4</th>\n",
              "      <td>11</td>\n",
              "      <td>Star Wars</td>\n",
              "      <td>[{'id': 12, 'name': 'Adventure'}, {'id': 28, '...</td>\n",
              "      <td>8.1</td>\n",
              "      <td>6778</td>\n",
              "    </tr>\n",
              "  </tbody>\n",
              "</table>\n",
              "</div>\n",
              "    <div class=\"colab-df-buttons\">\n",
              "\n",
              "  <div class=\"colab-df-container\">\n",
              "    <button class=\"colab-df-convert\" onclick=\"convertToInteractive('df-24b57114-a022-4975-8c5e-d84c5a06122c')\"\n",
              "            title=\"Convert this dataframe to an interactive table.\"\n",
              "            style=\"display:none;\">\n",
              "\n",
              "  <svg xmlns=\"http://www.w3.org/2000/svg\" height=\"24px\" viewBox=\"0 -960 960 960\">\n",
              "    <path d=\"M120-120v-720h720v720H120Zm60-500h600v-160H180v160Zm220 220h160v-160H400v160Zm0 220h160v-160H400v160ZM180-400h160v-160H180v160Zm440 0h160v-160H620v160ZM180-180h160v-160H180v160Zm440 0h160v-160H620v160Z\"/>\n",
              "  </svg>\n",
              "    </button>\n",
              "\n",
              "  <style>\n",
              "    .colab-df-container {\n",
              "      display:flex;\n",
              "      gap: 12px;\n",
              "    }\n",
              "\n",
              "    .colab-df-convert {\n",
              "      background-color: #E8F0FE;\n",
              "      border: none;\n",
              "      border-radius: 50%;\n",
              "      cursor: pointer;\n",
              "      display: none;\n",
              "      fill: #1967D2;\n",
              "      height: 32px;\n",
              "      padding: 0 0 0 0;\n",
              "      width: 32px;\n",
              "    }\n",
              "\n",
              "    .colab-df-convert:hover {\n",
              "      background-color: #E2EBFA;\n",
              "      box-shadow: 0px 1px 2px rgba(60, 64, 67, 0.3), 0px 1px 3px 1px rgba(60, 64, 67, 0.15);\n",
              "      fill: #174EA6;\n",
              "    }\n",
              "\n",
              "    .colab-df-buttons div {\n",
              "      margin-bottom: 4px;\n",
              "    }\n",
              "\n",
              "    [theme=dark] .colab-df-convert {\n",
              "      background-color: #3B4455;\n",
              "      fill: #D2E3FC;\n",
              "    }\n",
              "\n",
              "    [theme=dark] .colab-df-convert:hover {\n",
              "      background-color: #434B5C;\n",
              "      box-shadow: 0px 1px 3px 1px rgba(0, 0, 0, 0.15);\n",
              "      filter: drop-shadow(0px 1px 2px rgba(0, 0, 0, 0.3));\n",
              "      fill: #FFFFFF;\n",
              "    }\n",
              "  </style>\n",
              "\n",
              "    <script>\n",
              "      const buttonEl =\n",
              "        document.querySelector('#df-24b57114-a022-4975-8c5e-d84c5a06122c button.colab-df-convert');\n",
              "      buttonEl.style.display =\n",
              "        google.colab.kernel.accessAllowed ? 'block' : 'none';\n",
              "\n",
              "      async function convertToInteractive(key) {\n",
              "        const element = document.querySelector('#df-24b57114-a022-4975-8c5e-d84c5a06122c');\n",
              "        const dataTable =\n",
              "          await google.colab.kernel.invokeFunction('convertToInteractive',\n",
              "                                                    [key], {});\n",
              "        if (!dataTable) return;\n",
              "\n",
              "        const docLinkHtml = 'Like what you see? Visit the ' +\n",
              "          '<a target=\"_blank\" href=https://colab.research.google.com/notebooks/data_table.ipynb>data table notebook</a>'\n",
              "          + ' to learn more about interactive tables.';\n",
              "        element.innerHTML = '';\n",
              "        dataTable['output_type'] = 'display_data';\n",
              "        await google.colab.output.renderOutput(dataTable, element);\n",
              "        const docLink = document.createElement('div');\n",
              "        docLink.innerHTML = docLinkHtml;\n",
              "        element.appendChild(docLink);\n",
              "      }\n",
              "    </script>\n",
              "  </div>\n",
              "\n",
              "\n",
              "<div id=\"df-832ee237-e3f0-42b5-bd13-442e19c3927e\">\n",
              "  <button class=\"colab-df-quickchart\" onclick=\"quickchart('df-832ee237-e3f0-42b5-bd13-442e19c3927e')\"\n",
              "            title=\"Suggest charts.\"\n",
              "            style=\"display:none;\">\n",
              "\n",
              "<svg xmlns=\"http://www.w3.org/2000/svg\" height=\"24px\"viewBox=\"0 0 24 24\"\n",
              "     width=\"24px\">\n",
              "    <g>\n",
              "        <path d=\"M19 3H5c-1.1 0-2 .9-2 2v14c0 1.1.9 2 2 2h14c1.1 0 2-.9 2-2V5c0-1.1-.9-2-2-2zM9 17H7v-7h2v7zm4 0h-2V7h2v10zm4 0h-2v-4h2v4z\"/>\n",
              "    </g>\n",
              "</svg>\n",
              "  </button>\n",
              "\n",
              "<style>\n",
              "  .colab-df-quickchart {\n",
              "      --bg-color: #E8F0FE;\n",
              "      --fill-color: #1967D2;\n",
              "      --hover-bg-color: #E2EBFA;\n",
              "      --hover-fill-color: #174EA6;\n",
              "      --disabled-fill-color: #AAA;\n",
              "      --disabled-bg-color: #DDD;\n",
              "  }\n",
              "\n",
              "  [theme=dark] .colab-df-quickchart {\n",
              "      --bg-color: #3B4455;\n",
              "      --fill-color: #D2E3FC;\n",
              "      --hover-bg-color: #434B5C;\n",
              "      --hover-fill-color: #FFFFFF;\n",
              "      --disabled-bg-color: #3B4455;\n",
              "      --disabled-fill-color: #666;\n",
              "  }\n",
              "\n",
              "  .colab-df-quickchart {\n",
              "    background-color: var(--bg-color);\n",
              "    border: none;\n",
              "    border-radius: 50%;\n",
              "    cursor: pointer;\n",
              "    display: none;\n",
              "    fill: var(--fill-color);\n",
              "    height: 32px;\n",
              "    padding: 0;\n",
              "    width: 32px;\n",
              "  }\n",
              "\n",
              "  .colab-df-quickchart:hover {\n",
              "    background-color: var(--hover-bg-color);\n",
              "    box-shadow: 0 1px 2px rgba(60, 64, 67, 0.3), 0 1px 3px 1px rgba(60, 64, 67, 0.15);\n",
              "    fill: var(--button-hover-fill-color);\n",
              "  }\n",
              "\n",
              "  .colab-df-quickchart-complete:disabled,\n",
              "  .colab-df-quickchart-complete:disabled:hover {\n",
              "    background-color: var(--disabled-bg-color);\n",
              "    fill: var(--disabled-fill-color);\n",
              "    box-shadow: none;\n",
              "  }\n",
              "\n",
              "  .colab-df-spinner {\n",
              "    border: 2px solid var(--fill-color);\n",
              "    border-color: transparent;\n",
              "    border-bottom-color: var(--fill-color);\n",
              "    animation:\n",
              "      spin 1s steps(1) infinite;\n",
              "  }\n",
              "\n",
              "  @keyframes spin {\n",
              "    0% {\n",
              "      border-color: transparent;\n",
              "      border-bottom-color: var(--fill-color);\n",
              "      border-left-color: var(--fill-color);\n",
              "    }\n",
              "    20% {\n",
              "      border-color: transparent;\n",
              "      border-left-color: var(--fill-color);\n",
              "      border-top-color: var(--fill-color);\n",
              "    }\n",
              "    30% {\n",
              "      border-color: transparent;\n",
              "      border-left-color: var(--fill-color);\n",
              "      border-top-color: var(--fill-color);\n",
              "      border-right-color: var(--fill-color);\n",
              "    }\n",
              "    40% {\n",
              "      border-color: transparent;\n",
              "      border-right-color: var(--fill-color);\n",
              "      border-top-color: var(--fill-color);\n",
              "    }\n",
              "    60% {\n",
              "      border-color: transparent;\n",
              "      border-right-color: var(--fill-color);\n",
              "    }\n",
              "    80% {\n",
              "      border-color: transparent;\n",
              "      border-right-color: var(--fill-color);\n",
              "      border-bottom-color: var(--fill-color);\n",
              "    }\n",
              "    90% {\n",
              "      border-color: transparent;\n",
              "      border-bottom-color: var(--fill-color);\n",
              "    }\n",
              "  }\n",
              "</style>\n",
              "\n",
              "  <script>\n",
              "    async function quickchart(key) {\n",
              "      const quickchartButtonEl =\n",
              "        document.querySelector('#' + key + ' button');\n",
              "      quickchartButtonEl.disabled = true;  // To prevent multiple clicks.\n",
              "      quickchartButtonEl.classList.add('colab-df-spinner');\n",
              "      try {\n",
              "        const charts = await google.colab.kernel.invokeFunction(\n",
              "            'suggestCharts', [key], {});\n",
              "      } catch (error) {\n",
              "        console.error('Error during call to suggestCharts:', error);\n",
              "      }\n",
              "      quickchartButtonEl.classList.remove('colab-df-spinner');\n",
              "      quickchartButtonEl.classList.add('colab-df-quickchart-complete');\n",
              "    }\n",
              "    (() => {\n",
              "      let quickchartButtonEl =\n",
              "        document.querySelector('#df-832ee237-e3f0-42b5-bd13-442e19c3927e button');\n",
              "      quickchartButtonEl.style.display =\n",
              "        google.colab.kernel.accessAllowed ? 'block' : 'none';\n",
              "    })();\n",
              "  </script>\n",
              "</div>\n",
              "    </div>\n",
              "  </div>\n"
            ]
          },
          "metadata": {},
          "execution_count": 32
        }
      ]
    },
    {
      "cell_type": "code",
      "source": [
        "ratings.head()"
      ],
      "metadata": {
        "colab": {
          "base_uri": "https://localhost:8080/",
          "height": 206
        },
        "id": "QD3KkTuVTXhb",
        "outputId": "87d0aa58-2f91-4c87-b8f3-6f41ab60d7bb"
      },
      "execution_count": null,
      "outputs": [
        {
          "output_type": "execute_result",
          "data": {
            "text/plain": [
              "   userId  movieId  rating\n",
              "0      15        2     2.0\n",
              "1      19        2     3.0\n",
              "2      30        2     2.0\n",
              "3      32        2     4.0\n",
              "4      41        2     3.5"
            ],
            "text/html": [
              "\n",
              "  <div id=\"df-195d6651-de5e-4f63-9c3f-e1315e04c473\" class=\"colab-df-container\">\n",
              "    <div>\n",
              "<style scoped>\n",
              "    .dataframe tbody tr th:only-of-type {\n",
              "        vertical-align: middle;\n",
              "    }\n",
              "\n",
              "    .dataframe tbody tr th {\n",
              "        vertical-align: top;\n",
              "    }\n",
              "\n",
              "    .dataframe thead th {\n",
              "        text-align: right;\n",
              "    }\n",
              "</style>\n",
              "<table border=\"1\" class=\"dataframe\">\n",
              "  <thead>\n",
              "    <tr style=\"text-align: right;\">\n",
              "      <th></th>\n",
              "      <th>userId</th>\n",
              "      <th>movieId</th>\n",
              "      <th>rating</th>\n",
              "    </tr>\n",
              "  </thead>\n",
              "  <tbody>\n",
              "    <tr>\n",
              "      <th>0</th>\n",
              "      <td>15</td>\n",
              "      <td>2</td>\n",
              "      <td>2.0</td>\n",
              "    </tr>\n",
              "    <tr>\n",
              "      <th>1</th>\n",
              "      <td>19</td>\n",
              "      <td>2</td>\n",
              "      <td>3.0</td>\n",
              "    </tr>\n",
              "    <tr>\n",
              "      <th>2</th>\n",
              "      <td>30</td>\n",
              "      <td>2</td>\n",
              "      <td>2.0</td>\n",
              "    </tr>\n",
              "    <tr>\n",
              "      <th>3</th>\n",
              "      <td>32</td>\n",
              "      <td>2</td>\n",
              "      <td>4.0</td>\n",
              "    </tr>\n",
              "    <tr>\n",
              "      <th>4</th>\n",
              "      <td>41</td>\n",
              "      <td>2</td>\n",
              "      <td>3.5</td>\n",
              "    </tr>\n",
              "  </tbody>\n",
              "</table>\n",
              "</div>\n",
              "    <div class=\"colab-df-buttons\">\n",
              "\n",
              "  <div class=\"colab-df-container\">\n",
              "    <button class=\"colab-df-convert\" onclick=\"convertToInteractive('df-195d6651-de5e-4f63-9c3f-e1315e04c473')\"\n",
              "            title=\"Convert this dataframe to an interactive table.\"\n",
              "            style=\"display:none;\">\n",
              "\n",
              "  <svg xmlns=\"http://www.w3.org/2000/svg\" height=\"24px\" viewBox=\"0 -960 960 960\">\n",
              "    <path d=\"M120-120v-720h720v720H120Zm60-500h600v-160H180v160Zm220 220h160v-160H400v160Zm0 220h160v-160H400v160ZM180-400h160v-160H180v160Zm440 0h160v-160H620v160ZM180-180h160v-160H180v160Zm440 0h160v-160H620v160Z\"/>\n",
              "  </svg>\n",
              "    </button>\n",
              "\n",
              "  <style>\n",
              "    .colab-df-container {\n",
              "      display:flex;\n",
              "      gap: 12px;\n",
              "    }\n",
              "\n",
              "    .colab-df-convert {\n",
              "      background-color: #E8F0FE;\n",
              "      border: none;\n",
              "      border-radius: 50%;\n",
              "      cursor: pointer;\n",
              "      display: none;\n",
              "      fill: #1967D2;\n",
              "      height: 32px;\n",
              "      padding: 0 0 0 0;\n",
              "      width: 32px;\n",
              "    }\n",
              "\n",
              "    .colab-df-convert:hover {\n",
              "      background-color: #E2EBFA;\n",
              "      box-shadow: 0px 1px 2px rgba(60, 64, 67, 0.3), 0px 1px 3px 1px rgba(60, 64, 67, 0.15);\n",
              "      fill: #174EA6;\n",
              "    }\n",
              "\n",
              "    .colab-df-buttons div {\n",
              "      margin-bottom: 4px;\n",
              "    }\n",
              "\n",
              "    [theme=dark] .colab-df-convert {\n",
              "      background-color: #3B4455;\n",
              "      fill: #D2E3FC;\n",
              "    }\n",
              "\n",
              "    [theme=dark] .colab-df-convert:hover {\n",
              "      background-color: #434B5C;\n",
              "      box-shadow: 0px 1px 3px 1px rgba(0, 0, 0, 0.15);\n",
              "      filter: drop-shadow(0px 1px 2px rgba(0, 0, 0, 0.3));\n",
              "      fill: #FFFFFF;\n",
              "    }\n",
              "  </style>\n",
              "\n",
              "    <script>\n",
              "      const buttonEl =\n",
              "        document.querySelector('#df-195d6651-de5e-4f63-9c3f-e1315e04c473 button.colab-df-convert');\n",
              "      buttonEl.style.display =\n",
              "        google.colab.kernel.accessAllowed ? 'block' : 'none';\n",
              "\n",
              "      async function convertToInteractive(key) {\n",
              "        const element = document.querySelector('#df-195d6651-de5e-4f63-9c3f-e1315e04c473');\n",
              "        const dataTable =\n",
              "          await google.colab.kernel.invokeFunction('convertToInteractive',\n",
              "                                                    [key], {});\n",
              "        if (!dataTable) return;\n",
              "\n",
              "        const docLinkHtml = 'Like what you see? Visit the ' +\n",
              "          '<a target=\"_blank\" href=https://colab.research.google.com/notebooks/data_table.ipynb>data table notebook</a>'\n",
              "          + ' to learn more about interactive tables.';\n",
              "        element.innerHTML = '';\n",
              "        dataTable['output_type'] = 'display_data';\n",
              "        await google.colab.output.renderOutput(dataTable, element);\n",
              "        const docLink = document.createElement('div');\n",
              "        docLink.innerHTML = docLinkHtml;\n",
              "        element.appendChild(docLink);\n",
              "      }\n",
              "    </script>\n",
              "  </div>\n",
              "\n",
              "\n",
              "<div id=\"df-d928f248-624e-4095-b958-5007b819752e\">\n",
              "  <button class=\"colab-df-quickchart\" onclick=\"quickchart('df-d928f248-624e-4095-b958-5007b819752e')\"\n",
              "            title=\"Suggest charts.\"\n",
              "            style=\"display:none;\">\n",
              "\n",
              "<svg xmlns=\"http://www.w3.org/2000/svg\" height=\"24px\"viewBox=\"0 0 24 24\"\n",
              "     width=\"24px\">\n",
              "    <g>\n",
              "        <path d=\"M19 3H5c-1.1 0-2 .9-2 2v14c0 1.1.9 2 2 2h14c1.1 0 2-.9 2-2V5c0-1.1-.9-2-2-2zM9 17H7v-7h2v7zm4 0h-2V7h2v10zm4 0h-2v-4h2v4z\"/>\n",
              "    </g>\n",
              "</svg>\n",
              "  </button>\n",
              "\n",
              "<style>\n",
              "  .colab-df-quickchart {\n",
              "      --bg-color: #E8F0FE;\n",
              "      --fill-color: #1967D2;\n",
              "      --hover-bg-color: #E2EBFA;\n",
              "      --hover-fill-color: #174EA6;\n",
              "      --disabled-fill-color: #AAA;\n",
              "      --disabled-bg-color: #DDD;\n",
              "  }\n",
              "\n",
              "  [theme=dark] .colab-df-quickchart {\n",
              "      --bg-color: #3B4455;\n",
              "      --fill-color: #D2E3FC;\n",
              "      --hover-bg-color: #434B5C;\n",
              "      --hover-fill-color: #FFFFFF;\n",
              "      --disabled-bg-color: #3B4455;\n",
              "      --disabled-fill-color: #666;\n",
              "  }\n",
              "\n",
              "  .colab-df-quickchart {\n",
              "    background-color: var(--bg-color);\n",
              "    border: none;\n",
              "    border-radius: 50%;\n",
              "    cursor: pointer;\n",
              "    display: none;\n",
              "    fill: var(--fill-color);\n",
              "    height: 32px;\n",
              "    padding: 0;\n",
              "    width: 32px;\n",
              "  }\n",
              "\n",
              "  .colab-df-quickchart:hover {\n",
              "    background-color: var(--hover-bg-color);\n",
              "    box-shadow: 0 1px 2px rgba(60, 64, 67, 0.3), 0 1px 3px 1px rgba(60, 64, 67, 0.15);\n",
              "    fill: var(--button-hover-fill-color);\n",
              "  }\n",
              "\n",
              "  .colab-df-quickchart-complete:disabled,\n",
              "  .colab-df-quickchart-complete:disabled:hover {\n",
              "    background-color: var(--disabled-bg-color);\n",
              "    fill: var(--disabled-fill-color);\n",
              "    box-shadow: none;\n",
              "  }\n",
              "\n",
              "  .colab-df-spinner {\n",
              "    border: 2px solid var(--fill-color);\n",
              "    border-color: transparent;\n",
              "    border-bottom-color: var(--fill-color);\n",
              "    animation:\n",
              "      spin 1s steps(1) infinite;\n",
              "  }\n",
              "\n",
              "  @keyframes spin {\n",
              "    0% {\n",
              "      border-color: transparent;\n",
              "      border-bottom-color: var(--fill-color);\n",
              "      border-left-color: var(--fill-color);\n",
              "    }\n",
              "    20% {\n",
              "      border-color: transparent;\n",
              "      border-left-color: var(--fill-color);\n",
              "      border-top-color: var(--fill-color);\n",
              "    }\n",
              "    30% {\n",
              "      border-color: transparent;\n",
              "      border-left-color: var(--fill-color);\n",
              "      border-top-color: var(--fill-color);\n",
              "      border-right-color: var(--fill-color);\n",
              "    }\n",
              "    40% {\n",
              "      border-color: transparent;\n",
              "      border-right-color: var(--fill-color);\n",
              "      border-top-color: var(--fill-color);\n",
              "    }\n",
              "    60% {\n",
              "      border-color: transparent;\n",
              "      border-right-color: var(--fill-color);\n",
              "    }\n",
              "    80% {\n",
              "      border-color: transparent;\n",
              "      border-right-color: var(--fill-color);\n",
              "      border-bottom-color: var(--fill-color);\n",
              "    }\n",
              "    90% {\n",
              "      border-color: transparent;\n",
              "      border-bottom-color: var(--fill-color);\n",
              "    }\n",
              "  }\n",
              "</style>\n",
              "\n",
              "  <script>\n",
              "    async function quickchart(key) {\n",
              "      const quickchartButtonEl =\n",
              "        document.querySelector('#' + key + ' button');\n",
              "      quickchartButtonEl.disabled = true;  // To prevent multiple clicks.\n",
              "      quickchartButtonEl.classList.add('colab-df-spinner');\n",
              "      try {\n",
              "        const charts = await google.colab.kernel.invokeFunction(\n",
              "            'suggestCharts', [key], {});\n",
              "      } catch (error) {\n",
              "        console.error('Error during call to suggestCharts:', error);\n",
              "      }\n",
              "      quickchartButtonEl.classList.remove('colab-df-spinner');\n",
              "      quickchartButtonEl.classList.add('colab-df-quickchart-complete');\n",
              "    }\n",
              "    (() => {\n",
              "      let quickchartButtonEl =\n",
              "        document.querySelector('#df-d928f248-624e-4095-b958-5007b819752e button');\n",
              "      quickchartButtonEl.style.display =\n",
              "        google.colab.kernel.accessAllowed ? 'block' : 'none';\n",
              "    })();\n",
              "  </script>\n",
              "</div>\n",
              "    </div>\n",
              "  </div>\n"
            ]
          },
          "metadata": {},
          "execution_count": 33
        }
      ]
    },
    {
      "cell_type": "markdown",
      "source": [
        "# Calculate User's Genre Preferences\n",
        "\n",
        "This cell defines a function calculate_genre_preferences that calculates a user's genre preferences based on their movie ratings.\n",
        "It iterates through the user's ratings, extracts genre information from movies, and computes genre preferences.\n",
        "The genre preferences are normalized by dividing the sum of ratings by the count of ratings for each genre."
      ],
      "metadata": {
        "id": "G-thqguqVmWu"
      }
    },
    {
      "cell_type": "code",
      "source": [
        "# Calculate user's genre preferences\n",
        "def calculate_genre_preferences(user_id, ratings, movies):\n",
        "    user_ratings = ratings[ratings['userId'] == user_id]\n",
        "    genre_preferences = {}\n",
        "    for index, row in user_ratings.iterrows():\n",
        "        movie_id = row['movieId']\n",
        "        movie_info = movies[movies['movieId'] == movie_id]\n",
        "        if not movie_info.empty:\n",
        "            movie_genres = ast.literal_eval(movie_info['genres'].values[0])\n",
        "            rating = row['rating']\n",
        "            for genre in movie_genres:\n",
        "                genre_id = genre['id']\n",
        "                if genre_id not in genre_preferences:\n",
        "                    genre_preferences[genre_id] = {'sum_ratings': 0, 'count_ratings': 0}\n",
        "                genre_preferences[genre_id]['sum_ratings'] += rating\n",
        "                genre_preferences[genre_id]['count_ratings'] += 1\n",
        "    # Normalize genre preferences\n",
        "    for genre_id, prefs in genre_preferences.items():\n",
        "        prefs['normalized_rating'] = prefs['sum_ratings'] / prefs['count_ratings']\n",
        "    return genre_preferences"
      ],
      "metadata": {
        "id": "0BwwAYw0RmUR"
      },
      "execution_count": null,
      "outputs": []
    },
    {
      "cell_type": "markdown",
      "source": [
        "# Calculate Genre Preferences for All Users\n",
        "\n",
        "This cell calculates genre preferences for all users by calling the calculate_genre_preferences function for each unique user in the ratings dataset.\n",
        "It stores these genre preferences in the user_genre_preferences dictionary."
      ],
      "metadata": {
        "id": "4FhrdHJCVqij"
      }
    },
    {
      "cell_type": "code",
      "source": [
        "# Calculate genre preferences for all users\n",
        "unique_users = ratings['userId'].unique()\n",
        "user_genre_preferences = {}\n",
        "for user_id in unique_users:\n",
        "    genre_prefs = calculate_genre_preferences(user_id, ratings, movies)\n",
        "    user_genre_preferences[user_id] = genre_prefs"
      ],
      "metadata": {
        "id": "btUuZe55RuoG"
      },
      "execution_count": null,
      "outputs": []
    },
    {
      "cell_type": "markdown",
      "source": [
        "# Prepare Data for Clustering\n",
        "\n",
        "This cell prepares the data for clustering by constructing a matrix of genre preferences for each user.\n",
        "It extracts the normalized ratings for 20 genres and stores them in genre_preferences_matrix."
      ],
      "metadata": {
        "id": "YQkTNph0VtnB"
      }
    },
    {
      "cell_type": "code",
      "source": [
        "# Prepare the data for clustering\n",
        "genre_preferences_matrix = []\n",
        "for user_id, genre_prefs in user_genre_preferences.items():\n",
        "    row = [genre_prefs.get(genre_id, {'normalized_rating': 0})['normalized_rating'] for genre_id in range(1, 21)]\n",
        "    genre_preferences_matrix.append(row)"
      ],
      "metadata": {
        "id": "Qrv6Ngs9Ryfy"
      },
      "execution_count": null,
      "outputs": []
    },
    {
      "cell_type": "markdown",
      "source": [
        "# Apply K-Means Clustering\n",
        "\n",
        "In this cell, K-Means clustering is applied to cluster users based on their genre preferences.\n",
        "It specifies the number of clusters (num_clusters), scales the data, and performs K-Means clustering.\n",
        "The cluster assignments are added to the user_genre_preferences dictionary."
      ],
      "metadata": {
        "id": "w5Up9viOVwuI"
      }
    },
    {
      "cell_type": "code",
      "source": [
        "# Step 4: Apply K-Means clustering\n",
        "num_clusters = 3  # You can change the number of clusters as needed\n",
        "scaler = StandardScaler()\n",
        "genre_preferences_scaled = scaler.fit_transform(genre_preferences_matrix)\n",
        "kmeans = KMeans(n_clusters=num_clusters, random_state=42)\n",
        "user_clusters = kmeans.fit_predict(genre_preferences_scaled)\n",
        "\n",
        "# Add cluster information to the user_genre_preferences dictionary\n",
        "for i, user_id in enumerate(unique_users):\n",
        "    user_genre_preferences[user_id]['cluster'] = user_clusters[i]"
      ],
      "metadata": {
        "colab": {
          "base_uri": "https://localhost:8080/"
        },
        "id": "9skIOPa9R17Z",
        "outputId": "8cc07d96-5584-4a36-e59c-337e6e754e31"
      },
      "execution_count": null,
      "outputs": [
        {
          "output_type": "stream",
          "name": "stderr",
          "text": [
            "/usr/local/lib/python3.10/dist-packages/sklearn/cluster/_kmeans.py:870: FutureWarning: The default value of `n_init` will change from 10 to 'auto' in 1.4. Set the value of `n_init` explicitly to suppress the warning\n",
            "  warnings.warn(\n"
          ]
        }
      ]
    },
    {
      "cell_type": "markdown",
      "source": [
        "# Visualize Clusters (2D Plot)\n",
        "\n",
        "This cell uses PCA (Principal Component Analysis) to reduce the dimensionality of the data to 2D.\n",
        "It then creates a 2D scatter plot to visualize user clusters.\n",
        "Cluster labels are displayed on the plot."
      ],
      "metadata": {
        "id": "IyA_-ME3V1vI"
      }
    },
    {
      "cell_type": "code",
      "source": [
        "# Step 5: Visualize the clusters (2D plot) using PCA\n",
        "pca = PCA(n_components=2)\n",
        "reduced_genre_preferences = pca.fit_transform(genre_preferences_scaled)\n",
        "\n",
        "# Label the clusters\n",
        "cluster_labels = ['Cluster 0', 'Cluster 1', 'Cluster 2']\n",
        "plt.figure(figsize=(8, 6))\n",
        "for i in range(num_clusters):\n",
        "    plt.scatter(reduced_genre_preferences[user_clusters == i, 0], reduced_genre_preferences[user_clusters == i, 1], label=cluster_labels[i])\n",
        "plt.title(\"User Clusters\")\n",
        "plt.legend()\n",
        "plt.show()"
      ],
      "metadata": {
        "colab": {
          "base_uri": "https://localhost:8080/",
          "height": 545
        },
        "id": "ZTKyv7JIR5n5",
        "outputId": "473b6361-bfd4-455b-9e64-903c358fbfc3"
      },
      "execution_count": null,
      "outputs": [
        {
          "output_type": "display_data",
          "data": {
            "text/plain": [
              "<Figure size 800x600 with 1 Axes>"
            ],
            "image/png": "[encoded data removed]"
          },
          "metadata": {}
        }
      ]
    },
    {
      "cell_type": "markdown",
      "source": [
        "# Calculate Genre Preferences for Clusters\n",
        "\n",
        "This cell calculates genre preferences for each cluster by aggregating the preferences of users within the same cluster.\n",
        "It computes the sum of ratings and count of ratings for each genre within each cluster.\n",
        "It also calculates normalized ratings within each cluster."
      ],
      "metadata": {
        "id": "Z6432HLQV5Vh"
      }
    },
    {
      "cell_type": "code",
      "source": [
        "# Calculate genre preferences for clusters\n",
        "cluster_genre_preferences = {}\n",
        "for cluster_id in range(num_clusters):\n",
        "    cluster_genre_prefs = {genre_id: {'sum_ratings': 0, 'count_ratings': 0} for genre_id in range(1, 21)}\n",
        "    for user_id, prefs in user_genre_preferences.items():\n",
        "        if prefs['cluster'] == cluster_id:\n",
        "            for genre_id, genre_prefs in prefs.items():\n",
        "                if genre_id != 'cluster':\n",
        "                    if genre_id not in cluster_genre_prefs:\n",
        "                        cluster_genre_prefs[genre_id] = {'sum_ratings': 0, 'count_ratings': 0}\n",
        "                    cluster_genre_prefs[genre_id]['sum_ratings'] += genre_prefs['sum_ratings']\n",
        "                    cluster_genre_prefs[genre_id]['count_ratings'] += genre_prefs['count_ratings']\n",
        "    # Calculate normalized ratings within the cluster\n",
        "    for genre_id in cluster_genre_prefs:\n",
        "        sum_ratings = cluster_genre_prefs[genre_id]['sum_ratings']\n",
        "        count_ratings = cluster_genre_prefs[genre_id]['count_ratings']\n",
        "        if count_ratings > 0:\n",
        "            cluster_genre_prefs[genre_id]['normalized_rating'] = sum_ratings / count_ratings\n",
        "        else:\n",
        "            cluster_genre_prefs[genre_id]['normalized_rating'] = 0\n",
        "    cluster_genre_preferences[cluster_id] = cluster_genre_prefs"
      ],
      "metadata": {
        "id": "xHHLddGbR_lx"
      },
      "execution_count": null,
      "outputs": []
    },
    {
      "cell_type": "markdown",
      "source": [
        "# Print number of users and Preferences for Clusters\n",
        "\n",
        "This cell prints information about genre preferences for each cluster, including the number of users and genres within each cluster."
      ],
      "metadata": {
        "id": "FBqr3DqnV8bT"
      }
    },
    {
      "cell_type": "code",
      "source": [
        "# Print number of users and Preferences for Clusters\n",
        "for cluster_id, genre_prefs in cluster_genre_preferences.items():\n",
        "    num_users_in_cluster = sum(1 for user_id, prefs in user_genre_preferences.items() if prefs['cluster'] == cluster_id)\n",
        "    num_genres = len([genre_id for genre_id in genre_prefs if genre_id <= 20])\n",
        "    print(f\"\\nCluster {cluster_id} - Users: {num_users_in_cluster}, Genres: {num_genres}\")"
      ],
      "metadata": {
        "colab": {
          "base_uri": "https://localhost:8080/"
        },
        "id": "LsAKaNZvSDoI",
        "outputId": "b7dec6fe-5d59-47b0-efca-8cf7b6b3468f"
      },
      "execution_count": null,
      "outputs": [
        {
          "output_type": "stream",
          "name": "stdout",
          "text": [
            "\n",
            "Cluster 0 - Users: 94, Genres: 20\n",
            "\n",
            "Cluster 1 - Users: 78, Genres: 20\n",
            "\n",
            "Cluster 2 - Users: 28, Genres: 20\n"
          ]
        }
      ]
    },
    {
      "cell_type": "markdown",
      "source": [
        "# Generate Movie Recommendations for Each Cluster\n",
        "\n",
        "This cell generates movie recommendations for each cluster based on the preferred genre.\n",
        "It identifies the most preferred genre for each cluster and recommends movies from that genre that the cluster users haven't seen."
      ],
      "metadata": {
        "id": "58N5q3RFWHfi"
      }
    },
    {
      "cell_type": "code",
      "source": [
        "# Step 8: Generate movie recommendations for each cluster\n",
        "recommendation_data = []\n",
        "def generate_cluster_recommendations(cluster_id, genre_prefs, movies, ratings):\n",
        "    # Calculate the cluster's preferred genre ID based on genre preferences\n",
        "    cluster_preferred_genre_id = max(genre_prefs, key=lambda k: genre_prefs[k]['normalized_rating'])\n",
        "    # Find movies in the recommended genre that the cluster hasn't seen\n",
        "    cluster_ratings = ratings[ratings['userId'].isin([user_id for user_id, prefs in user_genre_preferences.items() if prefs['cluster'] == cluster_id])]\n",
        "    cluster_rated_movies = cluster_ratings['movieId'].tolist()\n",
        "    all_movies = movies['movieId'].tolist()\n",
        "    cluster_not_seen_movies = list(set(all_movies) - set(cluster_rated_movies))\n",
        "    recommended_movies = []\n",
        "    for movie_id in cluster_not_seen_movies:\n",
        "        movie_info = movies[movies['movieId'] == movie_id]\n",
        "        if not movie_info.empty:\n",
        "            movie_genres = ast.literal_eval(movie_info['genres'].values[0])\n",
        "            # Convert movie_genres to a list of strings\n",
        "            genres = [genre['name'] for genre in movie_genres]\n",
        "            genres_str = ', '.join(genres)  # Convert genres to a string\n",
        "            for genre in movie_genres:\n",
        "                genre_id = genre['id']\n",
        "                if genre_id == cluster_preferred_genre_id and genre_id in genre_prefs:\n",
        "                    rating = genre_prefs[genre_id]['normalized_rating']\n",
        "                    recommended_movies.append((movie_id, rating))\n",
        "    # Sort recommended movies by rating in descending order\n",
        "    recommended_movies.sort(key=lambda x: x[1], reverse=True)\n",
        "    # Get the top 2 recommended movies or fewer if there are less than 2\n",
        "    top_recommended_movies = recommended_movies[:2]\n",
        "    recommendations = [f\"Cluster {cluster_id}\"]\n",
        "    for i in range(2):\n",
        "        if i < len(top_recommended_movies):\n",
        "            movie_id, rating = top_recommended_movies[i]\n",
        "            movie_info = movies[movies['movieId'] == movie_id]\n",
        "            title = movie_info['title'].values[0]\n",
        "            recommendations.append(f\"Movie: {title}\\nGenres: {genres_str}\\nRating: {rating}\")\n",
        "        else:\n",
        "            recommendations.append(None)\n",
        "    recommendation_data.append(recommendations)"
      ],
      "metadata": {
        "id": "iXD8NWxISHl7"
      },
      "execution_count": null,
      "outputs": []
    },
    {
      "cell_type": "markdown",
      "source": [
        "# Print Recommendation Data\n",
        "\n",
        "This cell creates a table of movie recommendations for each cluster.\n",
        "It prints the table using the tabulate library."
      ],
      "metadata": {
        "id": "WgboauFMWKwB"
      }
    },
    {
      "cell_type": "code",
      "source": [
        "# Generate movie recommendations for each cluster\n",
        "for cluster_id, genre_prefs in cluster_genre_preferences.items():\n",
        "    generate_cluster_recommendations(cluster_id, genre_prefs, movies, ratings)\n",
        "\n",
        "# Create a table for recommendation data\n",
        "table_headers = [\"Cluster Name\", \"Movie Recommended 1\", \"Movie Recommended 2\"]\n",
        "table_data = []\n",
        "for row in recommendation_data:\n",
        "    table_data.append([row[0], row[1], row[2]])\n",
        "\n",
        "# Print the table using tabulate\n",
        "table = tabulate(table_data, headers=table_headers, tablefmt=\"fancy_grid\")\n",
        "print(table)"
      ],
      "metadata": {
        "colab": {
          "base_uri": "https://localhost:8080/"
        },
        "id": "FV716DuInFnD",
        "outputId": "e9f0ff62-42f8-44ca-9f3e-86184724a0c0"
      },
      "execution_count": null,
      "outputs": [
        {
          "output_type": "stream",
          "name": "stdout",
          "text": [
            "╒════════════════╤══════════════════════════════════════════╤══════════════════════════════════════════╕\n",
            "│ Cluster Name   │ Movie Recommended 1                      │ Movie Recommended 2                      │\n",
            "╞════════════════╪══════════════════════════════════════════╪══════════════════════════════════════════╡\n",
            "│ Cluster 0      │ Movie: Pearl                             │ Movie: Princes and Princesses            │\n",
            "│                │ Genres: Drama                            │ Genres: Drama                            │\n",
            "│                │ Rating: 3.8085106382978724               │ Rating: 3.8085106382978724               │\n",
            "├────────────────┼──────────────────────────────────────────┼──────────────────────────────────────────┤\n",
            "│ Cluster 1      │ Movie: Duel                              │ Movie: AE: Apocalypse Earth              │\n",
            "│                │ Genres: Crime, Thriller, Action, Mystery │ Genres: Crime, Thriller, Action, Mystery │\n",
            "│                │ Rating: 4.5                              │ Rating: 4.5                              │\n",
            "├────────────────┼──────────────────────────────────────────┼──────────────────────────────────────────┤\n",
            "│ Cluster 2      │ Movie: Unforgiven                        │ Movie: Wild Bill                         │\n",
            "│                │ Genres: Crime, Thriller, Action, Mystery │ Genres: Crime, Thriller, Action, Mystery │\n",
            "│                │ Rating: 3.1964285714285716               │ Rating: 3.1964285714285716               │\n",
            "╘════════════════╧══════════════════════════════════════════╧══════════════════════════════════════════╛\n"
          ]
        }
      ]
    },
    {
      "cell_type": "markdown",
      "source": [
        "# Calculate Similarity Function\n",
        "\n",
        "This cell defines a function calculate_similarity that calculates the cosine similarity between two clusters.\n",
        "It converts cluster preferences into arrays and uses cosine similarity for comparison."
      ],
      "metadata": {
        "id": "1WLvHkAjWOB5"
      }
    },
    {
      "cell_type": "code",
      "source": [
        "def calculate_similarity(cluster1, cluster2):\n",
        "    # Convert cluster dictionaries into arrays for similarity calculation\n",
        "    cluster1_array = [cluster1.get(genre_id, {'normalized_rating': 0})['normalized_rating'] for genre_id in range(1, 21)]\n",
        "    cluster2_array = [cluster2.get(genre_id, {'normalized_rating': 0})['normalized_rating'] for genre_id in range(1, 21)]\n",
        "    # Calculate cosine similarity between the two clusters\n",
        "    similarity = cosine_similarity([cluster1_array], [cluster2_array])\n",
        "    return similarity[0][0]\n",
        "\n",
        "threshold = 0.7"
      ],
      "metadata": {
        "id": "4WQPNkSJSgG-"
      },
      "execution_count": null,
      "outputs": []
    },
    {
      "cell_type": "markdown",
      "source": [
        "# Create a Cluster Similarity Network Graph\n",
        "\n",
        "This cell creates a network graph to represent the similarity between clusters.\n",
        "It uses the NetworkX library to create nodes for clusters and edges between clusters based on similarity.\n",
        "The graph is visualized using Matplotlib."
      ],
      "metadata": {
        "id": "h0yBkTOgWSF-"
      }
    },
    {
      "cell_type": "code",
      "source": [
        "# Create a graph\n",
        "G = nx.Graph()\n",
        "\n",
        "# Add nodes for clusters\n",
        "for cluster_id in cluster_genre_preferences:\n",
        "    G.add_node(f'Cluster {cluster_id}')\n",
        "\n",
        "# Add edges between clusters based on similarity (you need to implement calculate_similarity)\n",
        "for i, cluster_id1 in enumerate(cluster_genre_preferences):\n",
        "    for j, cluster_id2 in enumerate(cluster_genre_preferences):\n",
        "        if i < j:\n",
        "            # Calculate some measure of similarity between clusters\n",
        "            similarity = calculate_similarity(cluster_genre_preferences[cluster_id1], cluster_genre_preferences[cluster_id2])\n",
        "\n",
        "            # Add an edge if similarity meets a certain threshold\n",
        "            if similarity > threshold:\n",
        "                G.add_edge(f'Cluster {cluster_id1}', f'Cluster {cluster_id2}', weight=similarity)\n",
        "\n",
        "# Draw the graph\n",
        "pos = nx.spring_layout(G)  # Positioning the nodes\n",
        "labels = nx.get_edge_attributes(G, 'weight')\n",
        "nx.draw(G, pos, with_labels=True, node_size=500, node_color='skyblue', font_size=10, font_color='black')\n",
        "nx.draw_networkx_edge_labels(G, pos, edge_labels=labels, font_color='red', font_size=8, font_weight='bold')\n",
        "plt.title(\"Cluster Similarity Network Graph\")\n",
        "plt.show()\n"
      ],
      "metadata": {
        "colab": {
          "base_uri": "https://localhost:8080/",
          "height": 539
        },
        "id": "y1A5ky5HEOAl",
        "outputId": "bcff8c41-bbfb-435c-b878-68357362f2a0"
      },
      "execution_count": null,
      "outputs": [
        {
          "output_type": "display_data",
          "data": {
            "text/plain": [
              "<Figure size 640x480 with 1 Axes>"
            ],
            "image/png": "[encoded data removed]"
          },
          "metadata": {}
        }
      ]
    }
  ]
}